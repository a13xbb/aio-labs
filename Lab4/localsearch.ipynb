{
 "cells": [
  {
   "cell_type": "code",
   "execution_count": 34,
   "metadata": {},
   "outputs": [],
   "source": [
    "from time import time\n",
    "from typing import Optional, Sequence\n",
    "import pandas as pd\n",
    "import numpy as np"
   ]
  },
  {
   "cell_type": "code",
   "execution_count": 35,
   "metadata": {},
   "outputs": [],
   "source": [
    "def get_flow_value(cur_solution: list, dist: list, flow: list):\n",
    "    value = 0\n",
    "    for i in range(len(cur_solution) - 1):\n",
    "        for j in range(i + 1, len(cur_solution)):\n",
    "            value += dist[i][j] * flow[cur_solution[i]][cur_solution[j]]\n",
    "    value *= 2\n",
    "    return value"
   ]
  },
  {
   "cell_type": "code",
   "execution_count": 36,
   "metadata": {},
   "outputs": [],
   "source": [
    "def swap_factories(solution: list, i: int, j: int):\n",
    "    sol_copy = solution.copy()\n",
    "    tmp = sol_copy[i]\n",
    "    sol_copy[i] = sol_copy[j]\n",
    "    sol_copy[j] = tmp\n",
    "    return sol_copy"
   ]
  },
  {
   "cell_type": "code",
   "execution_count": 37,
   "metadata": {},
   "outputs": [],
   "source": [
    "def local_search(n_factories: int, dist: list, flow: list, starting_point: Optional[Sequence[int]] = None):\n",
    "    '''Local search with first-improvement + don't look bits'''\n",
    "    start = time()\n",
    "    if starting_point is None:\n",
    "        best_sol = [i for i in range(n_factories)]\n",
    "    else:\n",
    "        best_sol = starting_point\n",
    "    best_sol_value = get_flow_value(best_sol, dist, flow)\n",
    "    while True:\n",
    "        dlb = [False for i in range(n_factories)]\n",
    "        improvement_flag = False\n",
    "        for i in range(n_factories):\n",
    "            dlb_flag = True\n",
    "            for j in range(n_factories):\n",
    "                if not dlb[j] and i != j:\n",
    "                    new_sol = swap_factories(best_sol, i, j)\n",
    "                    delta = 0\n",
    "                    for k in range(n_factories):\n",
    "                        if k != i and k != j:\n",
    "                            delta -= dist[i][k] * \\\n",
    "                                flow[best_sol[i]][best_sol[k]]\n",
    "                            delta -= dist[j][k] * \\\n",
    "                                flow[best_sol[j]][best_sol[k]]\n",
    "                            delta += dist[i][k] * flow[new_sol[i]][new_sol[k]]\n",
    "                            delta += dist[j][k] * flow[new_sol[j]][new_sol[k]]\n",
    "                    delta *= 2\n",
    "                    if delta > 0:\n",
    "                        dlb_flag = False\n",
    "                        improvement_flag = True\n",
    "                        best_sol_value += delta\n",
    "                        best_sol = new_sol\n",
    "            if dlb_flag:\n",
    "                dlb[i] = True\n",
    "        if not improvement_flag:\n",
    "            break\n",
    "\n",
    "        # print(best_sol, best_sol_value, '\\n')\n",
    "    end = time()\n",
    "\n",
    "    return best_sol, best_sol_value, end - start"
   ]
  },
  {
   "cell_type": "code",
   "execution_count": 38,
   "metadata": {},
   "outputs": [],
   "source": [
    "data = []"
   ]
  },
  {
   "cell_type": "code",
   "execution_count": 39,
   "metadata": {},
   "outputs": [
    {
     "name": "stdout",
     "output_type": "stream",
     "text": [
      "Best solution: [3, 11, 9, 5, 15, 16, 6, 7, 14, 2, 8, 17, 18, 1, 19, 0, 13, 4, 12, 10]\n",
      "Best solution flow value: 1043396\n",
      "Time: 0.013108015060424805\n",
      "\n",
      "Best solution: [26, 2, 18, 5, 24, 8, 39, 1, 19, 7, 29, 32, 3, 28, 11, 13, 25, 38, 27, 12, 9, 20, 15, 14, 36, 16, 0, 37, 6, 21, 17, 31, 22, 30, 34, 35, 10, 4, 33, 23]\n",
      "Best solution flow value: 4305536\n",
      "Time: 0.1753709316253662\n",
      "\n"
     ]
    },
    {
     "name": "stdout",
     "output_type": "stream",
     "text": [
      "Best solution: [40, 8, 21, 14, 27, 17, 1, 35, 34, 0, 44, 59, 30, 2, 13, 16, 58, 6, 57, 3, 54, 4, 7, 22, 37, 10, 12, 25, 26, 23, 20, 18, 36, 33, 32, 11, 46, 19, 38, 5, 41, 31, 42, 43, 29, 39, 56, 51, 9, 48, 50, 28, 52, 53, 47, 55, 45, 24, 49, 15]\n",
      "Best solution flow value: 9447574\n",
      "Time: 0.46929144859313965\n",
      "\n",
      "Best solution: [64, 24, 33, 4, 10, 40, 56, 46, 3, 61, 39, 27, 57, 73, 8, 50, 18, 74, 23, 19, 22, 28, 1, 17, 15, 49, 12, 6, 21, 0, 30, 71, 38, 52, 29, 14, 37, 36, 63, 42, 79, 77, 26, 2, 72, 45, 43, 48, 9, 32, 69, 51, 35, 53, 54, 76, 7, 41, 34, 44, 60, 16, 11, 31, 59, 65, 66, 58, 68, 55, 70, 25, 20, 13, 47, 75, 67, 62, 78, 5]\n",
      "Best solution flow value: 17250548\n",
      "Time: 1.1737117767333984\n",
      "\n",
      "Best solution: [65, 69, 42, 68, 98, 57, 89, 83, 60, 81, 3, 88, 75, 11, 44, 10, 16, 27, 90, 63, 92, 12, 9, 48, 24, 79, 7, 46, 22, 85, 18, 19, 28, 33, 26, 20, 0, 40, 35, 91, 31, 39, 52, 36, 8, 99, 72, 43, 32, 6, 50, 14, 58, 97, 70, 82, 51, 37, 66, 25, 55, 49, 56, 61, 30, 13, 23, 62, 47, 53, 54, 95, 1, 34, 74, 76, 64, 73, 78, 67, 59, 86, 45, 17, 80, 41, 21, 2, 87, 5, 77, 38, 29, 93, 94, 84, 96, 4, 71, 15]\n",
      "Best solution flow value: 26188816\n",
      "Time: 1.4136271476745605\n",
      "\n"
     ]
    }
   ],
   "source": [
    "files_list = ['tai20a.txt', 'tai40a.txt', 'tai60a.txt', 'tai80a.txt', 'tai100a.txt']\n",
    " \n",
    "for file in files_list:       \n",
    "    with open(f'benchmarks/{file}', 'r') as f:\n",
    "        dist = []\n",
    "        flow = []\n",
    "        n_factories = int(f.readline())\n",
    "        for i in range(n_factories):\n",
    "            arr = f.readline().split()\n",
    "            arr = list(map(int, arr))\n",
    "            dist.append(arr)\n",
    "        \n",
    "        f.readline()\n",
    "        for i in range(n_factories):\n",
    "            arr = f.readline().split()\n",
    "            arr = list(map(int, arr))\n",
    "            flow.append(arr)\n",
    "        \n",
    "        best_sol, best_sol_value, dt = local_search(n_factories, dist, flow)\n",
    "        data.append([file[:-4] , best_sol_value, dt])\n",
    "        print(f'Best solution: {best_sol}')\n",
    "        print(f'Best solution flow value: {best_sol_value}')\n",
    "        print(f'Time: {dt}\\n')\n",
    "        with open(f'ls_outputs/{file}', 'w') as output_file:\n",
    "            print(*best_sol, file=output_file)"
   ]
  },
  {
   "cell_type": "code",
   "execution_count": 40,
   "metadata": {},
   "outputs": [
    {
     "data": {
      "text/html": [
       "<div>\n",
       "<style scoped>\n",
       "    .dataframe tbody tr th:only-of-type {\n",
       "        vertical-align: middle;\n",
       "    }\n",
       "\n",
       "    .dataframe tbody tr th {\n",
       "        vertical-align: top;\n",
       "    }\n",
       "\n",
       "    .dataframe thead th {\n",
       "        text-align: right;\n",
       "    }\n",
       "</style>\n",
       "<table border=\"1\" class=\"dataframe\">\n",
       "  <thead>\n",
       "    <tr style=\"text-align: right;\">\n",
       "      <th></th>\n",
       "      <th>sample</th>\n",
       "      <th>LS best value</th>\n",
       "      <th>LS time</th>\n",
       "    </tr>\n",
       "  </thead>\n",
       "  <tbody>\n",
       "    <tr>\n",
       "      <th>0</th>\n",
       "      <td>tai20a</td>\n",
       "      <td>1043396</td>\n",
       "      <td>0.013108</td>\n",
       "    </tr>\n",
       "    <tr>\n",
       "      <th>1</th>\n",
       "      <td>tai40a</td>\n",
       "      <td>4305536</td>\n",
       "      <td>0.175371</td>\n",
       "    </tr>\n",
       "    <tr>\n",
       "      <th>2</th>\n",
       "      <td>tai60a</td>\n",
       "      <td>9447574</td>\n",
       "      <td>0.469291</td>\n",
       "    </tr>\n",
       "    <tr>\n",
       "      <th>3</th>\n",
       "      <td>tai80a</td>\n",
       "      <td>17250548</td>\n",
       "      <td>1.173712</td>\n",
       "    </tr>\n",
       "    <tr>\n",
       "      <th>4</th>\n",
       "      <td>tai100a</td>\n",
       "      <td>26188816</td>\n",
       "      <td>1.413627</td>\n",
       "    </tr>\n",
       "  </tbody>\n",
       "</table>\n",
       "</div>"
      ],
      "text/plain": [
       "    sample  LS best value   LS time\n",
       "0   tai20a        1043396  0.013108\n",
       "1   tai40a        4305536  0.175371\n",
       "2   tai60a        9447574  0.469291\n",
       "3   tai80a       17250548  1.173712\n",
       "4  tai100a       26188816  1.413627"
      ]
     },
     "execution_count": 40,
     "metadata": {},
     "output_type": "execute_result"
    }
   ],
   "source": [
    "ls_df = pd.DataFrame(data, columns=['sample', 'LS best value', 'LS time'])\n",
    "ls_df"
   ]
  },
  {
   "attachments": {},
   "cell_type": "markdown",
   "metadata": {},
   "source": [
    "**Iterated Local Search**"
   ]
  },
  {
   "cell_type": "code",
   "execution_count": 69,
   "metadata": {},
   "outputs": [],
   "source": [
    "data=[]"
   ]
  },
  {
   "cell_type": "code",
   "execution_count": 73,
   "metadata": {},
   "outputs": [],
   "source": [
    "def inverse_k_perturbator(in_seq: Optional[Sequence[int]] = None, k: Optional[int]=None):\n",
    "    if in_seq is None:\n",
    "        return None\n",
    "    else: \n",
    "        l = len(in_seq)\n",
    "        if k is None:\n",
    "            p1, p2 = sorted([np.random.randint(0, l), np.random.randint(0, l)])\n",
    "        else:\n",
    "            p1 = np.random.randint(0, l)\n",
    "            p2 = p1 + k % l\n",
    "            p1,p2 = sorted([p1,p2])\n",
    "        return in_seq[:p1] + list(reversed(in_seq[p1:p2])) + in_seq[p2:]\n"
   ]
  },
  {
   "cell_type": "code",
   "execution_count": 74,
   "metadata": {},
   "outputs": [],
   "source": [
    "def ils(n_factories: int, dist: list, flow: list, \n",
    "         perturbation, n_iters = 1, starting_point: Optional[Sequence[int]] = None):\n",
    "    times = []\n",
    "    best_sol = starting_point\n",
    "    best_sol_value = 0\n",
    "    for i in range(n_iters):\n",
    "        new_staring_point = perturbation(best_sol)\n",
    "        new_sol, new_sol_value, dt = local_search(n_factories, dist, flow, new_staring_point)\n",
    "        times.append(dt)\n",
    "        if new_sol_value > best_sol_value:\n",
    "            best_sol_value = new_sol_value\n",
    "            best_sol = new_sol\n",
    "\n",
    "    return best_sol, best_sol_value, sum(times)"
   ]
  },
  {
   "cell_type": "code",
   "execution_count": 75,
   "metadata": {},
   "outputs": [
    {
     "name": "stdout",
     "output_type": "stream",
     "text": [
      "Best solution: [3, 7, 9, 18, 0, 13, 6, 15, 14, 2, 11, 8, 16, 10, 19, 1, 5, 4, 12, 17]\n",
      "Best solution flow value: 1074836\n",
      "Time: 0.11350893974304199\n",
      "\n",
      "Best solution: [7, 2, 18, 39, 36, 24, 5, 22, 1, 26, 29, 8, 3, 19, 11, 13, 37, 38, 21, 28, 12, 20, 17, 14, 32, 16, 31, 9, 6, 35, 15, 25, 0, 30, 34, 27, 10, 4, 33, 23]\n",
      "Best solution flow value: 4326194\n",
      "Time: 0.9517543315887451\n",
      "\n",
      "Best solution: [40, 25, 5, 14, 10, 47, 27, 18, 50, 49, 0, 34, 36, 2, 35, 16, 46, 28, 6, 33, 54, 4, 51, 22, 57, 59, 12, 53, 26, 42, 39, 41, 17, 38, 32, 11, 55, 48, 7, 9, 23, 31, 13, 43, 29, 52, 20, 21, 3, 1, 56, 24, 15, 19, 30, 44, 45, 37, 8, 58]\n",
      "Best solution flow value: 9584336\n",
      "Time: 4.092381715774536\n",
      "\n",
      "Best solution: [77, 52, 33, 4, 44, 57, 11, 69, 48, 16, 63, 26, 64, 73, 59, 0, 18, 74, 14, 75, 7, 21, 1, 46, 15, 40, 65, 6, 12, 54, 17, 71, 79, 24, 30, 10, 42, 37, 28, 32, 19, 22, 51, 2, 61, 23, 60, 53, 49, 72, 35, 8, 45, 39, 25, 76, 78, 41, 34, 20, 29, 27, 50, 31, 36, 43, 66, 58, 56, 55, 70, 68, 38, 13, 47, 3, 67, 62, 9, 5]\n",
      "Best solution flow value: 17344204\n",
      "Time: 7.064328670501709\n",
      "\n",
      "Best solution: [55, 88, 34, 16, 57, 74, 87, 53, 0, 60, 52, 17, 95, 58, 80, 49, 23, 63, 84, 92, 82, 96, 99, 2, 54, 89, 43, 45, 4, 35, 59, 46, 76, 6, 8, 24, 97, 69, 91, 25, 78, 5, 9, 64, 86, 12, 21, 31, 37, 83, 7, 48, 40, 20, 28, 98, 10, 14, 68, 1, 70, 81, 50, 90, 32, 47, 30, 85, 73, 75, 61, 94, 65, 42, 67, 13, 93, 29, 36, 33, 39, 62, 3, 51, 38, 56, 27, 19, 77, 41, 79, 26, 72, 44, 71, 66, 22, 18, 11, 15]\n",
      "Best solution flow value: 26422338\n",
      "Time: 12.680068969726562\n",
      "\n"
     ]
    }
   ],
   "source": [
    "files_list = ['tai20a.txt', 'tai40a.txt', 'tai60a.txt', 'tai80a.txt', 'tai100a.txt']\n",
    " \n",
    "for file in files_list:       \n",
    "    with open(f'benchmarks/{file}', 'r') as f:\n",
    "        dist = []\n",
    "        flow = []\n",
    "        n_factories = int(f.readline())\n",
    "        for i in range(n_factories):\n",
    "            arr = f.readline().split()\n",
    "            arr = list(map(int, arr))\n",
    "            dist.append(arr)\n",
    "        \n",
    "        f.readline()\n",
    "        for i in range(n_factories):\n",
    "            arr = f.readline().split()\n",
    "            arr = list(map(int, arr))\n",
    "            flow.append(arr)\n",
    "        \n",
    "        best_sol, best_sol_value, dt = ils(n_factories, dist, flow, inverse_k_perturbator, 10)\n",
    "        data.append([file[:-4] , best_sol_value, dt])\n",
    "        print(f'Best solution: {best_sol}')\n",
    "        print(f'Best solution flow value: {best_sol_value}')\n",
    "        print(f'Time: {dt}\\n')\n",
    "        with open(f'ils_outputs/{file}', 'w') as output_file:\n",
    "            print(*best_sol, file=output_file)"
   ]
  },
  {
   "cell_type": "code",
   "execution_count": 78,
   "metadata": {},
   "outputs": [],
   "source": [
    "ils_df = pd.DataFrame(data, columns=['sample', 'ILS best value', 'ILS time'])\n",
    "df = ls_df.set_index('sample').join(ils_df.set_index('sample'))"
   ]
  },
  {
   "cell_type": "code",
   "execution_count": 79,
   "metadata": {},
   "outputs": [
    {
     "data": {
      "text/html": [
       "<div>\n",
       "<style scoped>\n",
       "    .dataframe tbody tr th:only-of-type {\n",
       "        vertical-align: middle;\n",
       "    }\n",
       "\n",
       "    .dataframe tbody tr th {\n",
       "        vertical-align: top;\n",
       "    }\n",
       "\n",
       "    .dataframe thead th {\n",
       "        text-align: right;\n",
       "    }\n",
       "</style>\n",
       "<table border=\"1\" class=\"dataframe\">\n",
       "  <thead>\n",
       "    <tr style=\"text-align: right;\">\n",
       "      <th></th>\n",
       "      <th>LS best value</th>\n",
       "      <th>LS time</th>\n",
       "      <th>ILS best value</th>\n",
       "      <th>ILS time</th>\n",
       "    </tr>\n",
       "    <tr>\n",
       "      <th>sample</th>\n",
       "      <th></th>\n",
       "      <th></th>\n",
       "      <th></th>\n",
       "      <th></th>\n",
       "    </tr>\n",
       "  </thead>\n",
       "  <tbody>\n",
       "    <tr>\n",
       "      <th>tai20a</th>\n",
       "      <td>1043396</td>\n",
       "      <td>0.013108</td>\n",
       "      <td>1074836</td>\n",
       "      <td>0.113509</td>\n",
       "    </tr>\n",
       "    <tr>\n",
       "      <th>tai40a</th>\n",
       "      <td>4305536</td>\n",
       "      <td>0.175371</td>\n",
       "      <td>4326194</td>\n",
       "      <td>0.951754</td>\n",
       "    </tr>\n",
       "    <tr>\n",
       "      <th>tai60a</th>\n",
       "      <td>9447574</td>\n",
       "      <td>0.469291</td>\n",
       "      <td>9584336</td>\n",
       "      <td>4.092382</td>\n",
       "    </tr>\n",
       "    <tr>\n",
       "      <th>tai80a</th>\n",
       "      <td>17250548</td>\n",
       "      <td>1.173712</td>\n",
       "      <td>17344204</td>\n",
       "      <td>7.064329</td>\n",
       "    </tr>\n",
       "    <tr>\n",
       "      <th>tai100a</th>\n",
       "      <td>26188816</td>\n",
       "      <td>1.413627</td>\n",
       "      <td>26422338</td>\n",
       "      <td>12.680069</td>\n",
       "    </tr>\n",
       "  </tbody>\n",
       "</table>\n",
       "</div>"
      ],
      "text/plain": [
       "         LS best value   LS time  ILS best value   ILS time\n",
       "sample                                                     \n",
       "tai20a         1043396  0.013108         1074836   0.113509\n",
       "tai40a         4305536  0.175371         4326194   0.951754\n",
       "tai60a         9447574  0.469291         9584336   4.092382\n",
       "tai80a        17250548  1.173712        17344204   7.064329\n",
       "tai100a       26188816  1.413627        26422338  12.680069"
      ]
     },
     "execution_count": 79,
     "metadata": {},
     "output_type": "execute_result"
    }
   ],
   "source": [
    "df"
   ]
  }
 ],
 "metadata": {
  "kernelspec": {
   "display_name": "base",
   "language": "python",
   "name": "python3"
  },
  "language_info": {
   "codemirror_mode": {
    "name": "ipython",
    "version": 3
   },
   "file_extension": ".py",
   "mimetype": "text/x-python",
   "name": "python",
   "nbconvert_exporter": "python",
   "pygments_lexer": "ipython3",
   "version": "3.10.6"
  },
  "orig_nbformat": 4
 },
 "nbformat": 4,
 "nbformat_minor": 2
}
