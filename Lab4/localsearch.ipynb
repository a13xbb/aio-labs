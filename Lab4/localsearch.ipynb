{
 "cells": [
  {
   "cell_type": "code",
   "execution_count": 44,
   "metadata": {},
   "outputs": [],
   "source": [
    "from time import time\n",
    "from typing import Optional, Sequence\n",
    "import pandas as pd\n",
    "import numpy as np"
   ]
  },
  {
   "cell_type": "code",
   "execution_count": 45,
   "metadata": {},
   "outputs": [],
   "source": [
    "def get_flow_value(cur_solution: list, dist: list, flow: list):\n",
    "    value = 0\n",
    "    for i in range(len(cur_solution) - 1):\n",
    "        for j in range(i + 1, len(cur_solution)):\n",
    "            value += dist[i][j] * flow[cur_solution[i]][cur_solution[j]]\n",
    "    value *= 2\n",
    "    return value"
   ]
  },
  {
   "cell_type": "code",
   "execution_count": 46,
   "metadata": {},
   "outputs": [],
   "source": [
    "def swap_factories(solution: list, i: int, j: int):\n",
    "    sol_copy = solution.copy()\n",
    "    tmp = sol_copy[i]\n",
    "    sol_copy[i] = sol_copy[j]\n",
    "    sol_copy[j] = tmp\n",
    "    return sol_copy"
   ]
  },
  {
   "cell_type": "code",
   "execution_count": 47,
   "metadata": {},
   "outputs": [],
   "source": [
    "def local_search(n_factories: int, dist: list, flow: list, starting_point: Optional[Sequence[int]] = None):\n",
    "    '''Local search with first-improvement + don't look bits'''\n",
    "    start = time()\n",
    "    if starting_point is None:\n",
    "        best_sol = [i for i in range(n_factories)]\n",
    "    else:\n",
    "        best_sol = starting_point\n",
    "    best_sol_value = get_flow_value(best_sol, dist, flow)\n",
    "    while True:\n",
    "        dlb = [False for i in range(n_factories)]\n",
    "        improvement_flag = False\n",
    "        for i in range(n_factories):\n",
    "            dlb_flag = True\n",
    "            for j in range(n_factories):\n",
    "                if not dlb[j] and i != j:\n",
    "                    new_sol = swap_factories(best_sol, i, j)\n",
    "                    delta = 0\n",
    "                    for k in range(n_factories):\n",
    "                        if k != i and k != j:\n",
    "                            delta -= dist[i][k] * \\\n",
    "                                flow[best_sol[i]][best_sol[k]]\n",
    "                            delta -= dist[j][k] * \\\n",
    "                                flow[best_sol[j]][best_sol[k]]\n",
    "                            delta += dist[i][k] * flow[new_sol[i]][new_sol[k]]\n",
    "                            delta += dist[j][k] * flow[new_sol[j]][new_sol[k]]\n",
    "                    delta *= 2\n",
    "                    if delta < 0:\n",
    "                        dlb_flag = False\n",
    "                        improvement_flag = True\n",
    "                        best_sol_value += delta\n",
    "                        best_sol = new_sol\n",
    "            if dlb_flag:\n",
    "                dlb[i] = True\n",
    "        if not improvement_flag:\n",
    "            break\n",
    "\n",
    "        # print(best_sol, best_sol_value, '\\n')\n",
    "    end = time()\n",
    "\n",
    "    return best_sol, best_sol_value, end - start"
   ]
  },
  {
   "cell_type": "code",
   "execution_count": 48,
   "metadata": {},
   "outputs": [],
   "source": [
    "data = []"
   ]
  },
  {
   "cell_type": "code",
   "execution_count": 49,
   "metadata": {},
   "outputs": [
    {
     "name": "stdout",
     "output_type": "stream",
     "text": [
      "Best solution: [16, 3, 17, 14, 7, 19, 10, 18, 1, 9, 13, 11, 12, 6, 15, 0, 2, 8, 4, 5]\n",
      "Best solution flow value: 736450\n",
      "Time: 0.011997461318969727\n",
      "\n",
      "Best solution: [23, 28, 39, 22, 15, 37, 34, 13, 0, 9, 3, 26, 25, 24, 5, 27, 21, 17, 6, 8, 20, 31, 1, 19, 12, 16, 35, 10, 2, 29, 14, 38, 32, 30, 33, 18, 36, 7, 11, 4]\n",
      "Best solution flow value: 3260316\n",
      "Time: 0.15450096130371094\n",
      "\n",
      "Best solution: [52, 35, 21, 6, 10, 32, 56, 7, 23, 11, 55, 27, 4, 36, 37, 24, 44, 17, 18, 43, 9, 47, 48, 0, 16, 49, 50, 26, 20, 28, 15, 31, 8, 33, 2, 39, 13, 29, 41, 25, 40, 14, 1, 38, 42, 30, 45, 22, 3, 19, 46, 51, 59, 53, 12, 54, 5, 57, 58, 34]\n",
      "Best solution flow value: 7467702\n",
      "Time: 0.5945019721984863\n",
      "\n",
      "Best solution: [20, 39, 3, 16, 11, 12, 26, 7, 24, 36, 8, 51, 40, 47, 65, 10, 74, 38, 18, 17, 19, 9, 33, 23, 77, 78, 14, 21, 54, 29, 6, 30, 68, 60, 13, 2, 79, 75, 0, 31, 22, 43, 34, 5, 27, 35, 45, 4, 48, 41, 1, 37, 50, 53, 15, 49, 52, 62, 57, 25, 32, 61, 58, 44, 64, 59, 63, 67, 46, 66, 69, 71, 70, 73, 55, 72, 76, 56, 28, 42]\n",
      "Best solution flow value: 14061060\n",
      "Time: 1.0820012092590332\n",
      "\n",
      "Best solution: [12, 35, 73, 87, 5, 19, 28, 13, 53, 9, 14, 15, 10, 69, 36, 75, 56, 64, 47, 42, 4, 58, 99, 11, 7, 21, 23, 70, 61, 25, 95, 29, 32, 83, 34, 17, 1, 85, 38, 39, 91, 37, 33, 49, 0, 46, 60, 20, 31, 43, 50, 51, 89, 16, 22, 55, 6, 57, 97, 8, 81, 76, 79, 54, 72, 65, 52, 27, 3, 67, 26, 71, 44, 66, 18, 40, 86, 24, 63, 62, 84, 30, 82, 77, 59, 74, 93, 68, 88, 45, 94, 41, 92, 80, 90, 48, 78, 96, 2, 98]\n",
      "Best solution flow value: 21771672\n",
      "Time: 1.8100013732910156\n",
      "\n"
     ]
    }
   ],
   "source": [
    "files_list = ['tai20a.txt', 'tai40a.txt', 'tai60a.txt', 'tai80a.txt', 'tai100a.txt']\n",
    " \n",
    "for file in files_list:       \n",
    "    with open(f'benchmarks/{file}', 'r') as f:\n",
    "        dist = []\n",
    "        flow = []\n",
    "        n_factories = int(f.readline())\n",
    "        for i in range(n_factories):\n",
    "            arr = f.readline().split()\n",
    "            arr = list(map(int, arr))\n",
    "            dist.append(arr)\n",
    "        \n",
    "        f.readline()\n",
    "        for i in range(n_factories):\n",
    "            arr = f.readline().split()\n",
    "            arr = list(map(int, arr))\n",
    "            flow.append(arr)\n",
    "        \n",
    "        best_sol, best_sol_value, dt = local_search(n_factories, dist, flow)\n",
    "        data.append([file[:-4] , best_sol_value, dt])\n",
    "        print(f'Best solution: {best_sol}')\n",
    "        print(f'Best solution flow value: {best_sol_value}')\n",
    "        print(f'Time: {dt}\\n')\n",
    "        fsave = file.replace('txt','sol')\n",
    "        with open(f'ls_outputs/{fsave}', 'w') as output_file:\n",
    "            print(*best_sol, file=output_file)"
   ]
  },
  {
   "cell_type": "code",
   "execution_count": 50,
   "metadata": {},
   "outputs": [
    {
     "data": {
      "text/html": [
       "<div>\n",
       "<style scoped>\n",
       "    .dataframe tbody tr th:only-of-type {\n",
       "        vertical-align: middle;\n",
       "    }\n",
       "\n",
       "    .dataframe tbody tr th {\n",
       "        vertical-align: top;\n",
       "    }\n",
       "\n",
       "    .dataframe thead th {\n",
       "        text-align: right;\n",
       "    }\n",
       "</style>\n",
       "<table border=\"1\" class=\"dataframe\">\n",
       "  <thead>\n",
       "    <tr style=\"text-align: right;\">\n",
       "      <th></th>\n",
       "      <th>sample</th>\n",
       "      <th>LS best value</th>\n",
       "      <th>LS time</th>\n",
       "    </tr>\n",
       "  </thead>\n",
       "  <tbody>\n",
       "    <tr>\n",
       "      <th>0</th>\n",
       "      <td>tai20a</td>\n",
       "      <td>736450</td>\n",
       "      <td>0.011997</td>\n",
       "    </tr>\n",
       "    <tr>\n",
       "      <th>1</th>\n",
       "      <td>tai40a</td>\n",
       "      <td>3260316</td>\n",
       "      <td>0.154501</td>\n",
       "    </tr>\n",
       "    <tr>\n",
       "      <th>2</th>\n",
       "      <td>tai60a</td>\n",
       "      <td>7467702</td>\n",
       "      <td>0.594502</td>\n",
       "    </tr>\n",
       "    <tr>\n",
       "      <th>3</th>\n",
       "      <td>tai80a</td>\n",
       "      <td>14061060</td>\n",
       "      <td>1.082001</td>\n",
       "    </tr>\n",
       "    <tr>\n",
       "      <th>4</th>\n",
       "      <td>tai100a</td>\n",
       "      <td>21771672</td>\n",
       "      <td>1.810001</td>\n",
       "    </tr>\n",
       "  </tbody>\n",
       "</table>\n",
       "</div>"
      ],
      "text/plain": [
       "    sample  LS best value   LS time\n",
       "0   tai20a         736450  0.011997\n",
       "1   tai40a        3260316  0.154501\n",
       "2   tai60a        7467702  0.594502\n",
       "3   tai80a       14061060  1.082001\n",
       "4  tai100a       21771672  1.810001"
      ]
     },
     "execution_count": 50,
     "metadata": {},
     "output_type": "execute_result"
    }
   ],
   "source": [
    "ls_df = pd.DataFrame(data, columns=['sample', 'LS best value', 'LS time'])\n",
    "ls_df"
   ]
  },
  {
   "attachments": {},
   "cell_type": "markdown",
   "metadata": {},
   "source": [
    "**Iterated Local Search**"
   ]
  },
  {
   "cell_type": "code",
   "execution_count": 51,
   "metadata": {},
   "outputs": [],
   "source": [
    "data=[]"
   ]
  },
  {
   "cell_type": "code",
   "execution_count": 52,
   "metadata": {},
   "outputs": [],
   "source": [
    "def inverse_k_perturbator(in_seq: Optional[Sequence[int]] = None, k: Optional[int]=None):\n",
    "    if in_seq is None:\n",
    "        return None\n",
    "    else: \n",
    "        l = len(in_seq)\n",
    "        if k is None:\n",
    "            p1, p2 = sorted([np.random.randint(0, l), np.random.randint(0, l)])\n",
    "        else:\n",
    "            p1 = np.random.randint(0, l)\n",
    "            p2 = p1 + k % l\n",
    "            p1,p2 = sorted([p1,p2])\n",
    "        return in_seq[:p1] + list(reversed(in_seq[p1:p2])) + in_seq[p2:]\n"
   ]
  },
  {
   "cell_type": "code",
   "execution_count": 53,
   "metadata": {},
   "outputs": [],
   "source": [
    "def ils(n_factories: int, dist: list, flow: list, \n",
    "         perturbation, n_iters = 1, starting_point: Optional[Sequence[int]] = None):\n",
    "    times = []\n",
    "    best_sol = starting_point\n",
    "    best_sol_value = np.inf\n",
    "    for i in range(n_iters):\n",
    "        new_staring_point = perturbation(best_sol)\n",
    "        new_sol, new_sol_value, dt = local_search(n_factories, dist, flow, new_staring_point)\n",
    "        times.append(dt)\n",
    "        if new_sol_value < best_sol_value:\n",
    "            best_sol_value = new_sol_value\n",
    "            best_sol = new_sol\n",
    "\n",
    "    return best_sol, best_sol_value, sum(times)"
   ]
  },
  {
   "cell_type": "code",
   "execution_count": 54,
   "metadata": {},
   "outputs": [
    {
     "name": "stdout",
     "output_type": "stream",
     "text": [
      "Best solution: [14, 3, 17, 19, 4, 16, 10, 18, 13, 6, 15, 8, 12, 5, 7, 0, 2, 9, 1, 11]\n",
      "Best solution flow value: 721242\n",
      "Time: 0.10699868202209473\n",
      "\n"
     ]
    },
    {
     "name": "stdout",
     "output_type": "stream",
     "text": [
      "Best solution: [23, 33, 4, 10, 15, 37, 8, 13, 31, 24, 3, 26, 25, 22, 20, 27, 21, 17, 6, 7, 28, 36, 30, 1, 12, 16, 35, 19, 2, 39, 14, 38, 32, 5, 0, 18, 11, 34, 9, 29]\n",
      "Best solution flow value: 3233552\n",
      "Time: 1.008500099182129\n",
      "\n",
      "Best solution: [17, 10, 25, 3, 27, 32, 56, 55, 23, 11, 21, 24, 52, 36, 59, 42, 44, 57, 18, 43, 6, 47, 48, 0, 16, 49, 50, 26, 20, 46, 15, 31, 8, 33, 2, 39, 13, 29, 41, 28, 40, 7, 1, 38, 9, 30, 4, 22, 35, 19, 45, 51, 37, 53, 12, 54, 5, 14, 58, 34]\n",
      "Best solution flow value: 7421824\n",
      "Time: 3.8709959983825684\n",
      "\n",
      "Best solution: [69, 35, 20, 48, 42, 9, 21, 29, 6, 13, 45, 40, 36, 47, 14, 55, 74, 31, 50, 79, 12, 44, 49, 17, 77, 78, 70, 22, 54, 59, 24, 4, 16, 75, 71, 38, 57, 25, 0, 10, 27, 34, 7, 73, 65, 1, 72, 19, 8, 30, 28, 37, 41, 53, 62, 39, 52, 5, 76, 23, 3, 61, 67, 11, 64, 32, 33, 15, 46, 66, 18, 26, 51, 63, 68, 60, 58, 56, 2, 43]\n",
      "Best solution flow value: 13986514\n",
      "Time: 7.61600136756897\n",
      "\n",
      "Best solution: [79, 90, 24, 80, 86, 13, 0, 84, 55, 8, 36, 17, 20, 72, 71, 46, 88, 68, 43, 33, 19, 73, 81, 66, 27, 44, 18, 61, 98, 14, 69, 92, 97, 7, 22, 76, 38, 12, 78, 96, 99, 30, 54, 52, 65, 70, 4, 21, 60, 58, 50, 39, 82, 48, 53, 42, 74, 32, 77, 64, 31, 47, 59, 87, 85, 10, 5, 95, 16, 49, 23, 2, 45, 62, 94, 40, 25, 89, 83, 41, 57, 28, 75, 26, 51, 29, 93, 34, 6, 35, 67, 3, 11, 56, 91, 37, 1, 63, 15, 9]\n",
      "Best solution flow value: 21704750\n",
      "Time: 15.7420015335083\n",
      "\n"
     ]
    }
   ],
   "source": [
    "files_list = ['tai20a.txt', 'tai40a.txt', 'tai60a.txt', 'tai80a.txt', 'tai100a.txt']\n",
    " \n",
    "for file in files_list:       \n",
    "    with open(f'benchmarks/{file}', 'r') as f:\n",
    "        dist = []\n",
    "        flow = []\n",
    "        n_factories = int(f.readline())\n",
    "        for i in range(n_factories):\n",
    "            arr = f.readline().split()\n",
    "            arr = list(map(int, arr))\n",
    "            dist.append(arr)\n",
    "        \n",
    "        f.readline()\n",
    "        for i in range(n_factories):\n",
    "            arr = f.readline().split()\n",
    "            arr = list(map(int, arr))\n",
    "            flow.append(arr)\n",
    "        \n",
    "        best_sol, best_sol_value, dt = ils(n_factories, dist, flow, inverse_k_perturbator, 10)\n",
    "        data.append([file[:-4] , best_sol_value, dt])\n",
    "        print(f'Best solution: {best_sol}')\n",
    "        print(f'Best solution flow value: {best_sol_value}')\n",
    "        print(f'Time: {dt}\\n')\n",
    "        with open(f'ils_outputs/{file}', 'w') as output_file:\n",
    "            print(*best_sol, file=output_file)"
   ]
  },
  {
   "cell_type": "code",
   "execution_count": 55,
   "metadata": {},
   "outputs": [],
   "source": [
    "ils_df = pd.DataFrame(data, columns=['sample', 'ILS best value', 'ILS time'])\n",
    "df = ls_df.set_index('sample').join(ils_df.set_index('sample'))"
   ]
  },
  {
   "cell_type": "code",
   "execution_count": 56,
   "metadata": {},
   "outputs": [
    {
     "data": {
      "text/html": [
       "<div>\n",
       "<style scoped>\n",
       "    .dataframe tbody tr th:only-of-type {\n",
       "        vertical-align: middle;\n",
       "    }\n",
       "\n",
       "    .dataframe tbody tr th {\n",
       "        vertical-align: top;\n",
       "    }\n",
       "\n",
       "    .dataframe thead th {\n",
       "        text-align: right;\n",
       "    }\n",
       "</style>\n",
       "<table border=\"1\" class=\"dataframe\">\n",
       "  <thead>\n",
       "    <tr style=\"text-align: right;\">\n",
       "      <th></th>\n",
       "      <th>LS best value</th>\n",
       "      <th>LS time</th>\n",
       "      <th>ILS best value</th>\n",
       "      <th>ILS time</th>\n",
       "    </tr>\n",
       "    <tr>\n",
       "      <th>sample</th>\n",
       "      <th></th>\n",
       "      <th></th>\n",
       "      <th></th>\n",
       "      <th></th>\n",
       "    </tr>\n",
       "  </thead>\n",
       "  <tbody>\n",
       "    <tr>\n",
       "      <th>tai20a</th>\n",
       "      <td>736450</td>\n",
       "      <td>0.011997</td>\n",
       "      <td>721242</td>\n",
       "      <td>0.106999</td>\n",
       "    </tr>\n",
       "    <tr>\n",
       "      <th>tai40a</th>\n",
       "      <td>3260316</td>\n",
       "      <td>0.154501</td>\n",
       "      <td>3233552</td>\n",
       "      <td>1.008500</td>\n",
       "    </tr>\n",
       "    <tr>\n",
       "      <th>tai60a</th>\n",
       "      <td>7467702</td>\n",
       "      <td>0.594502</td>\n",
       "      <td>7421824</td>\n",
       "      <td>3.870996</td>\n",
       "    </tr>\n",
       "    <tr>\n",
       "      <th>tai80a</th>\n",
       "      <td>14061060</td>\n",
       "      <td>1.082001</td>\n",
       "      <td>13986514</td>\n",
       "      <td>7.616001</td>\n",
       "    </tr>\n",
       "    <tr>\n",
       "      <th>tai100a</th>\n",
       "      <td>21771672</td>\n",
       "      <td>1.810001</td>\n",
       "      <td>21704750</td>\n",
       "      <td>15.742002</td>\n",
       "    </tr>\n",
       "  </tbody>\n",
       "</table>\n",
       "</div>"
      ],
      "text/plain": [
       "         LS best value   LS time  ILS best value   ILS time\n",
       "sample                                                     \n",
       "tai20a          736450  0.011997          721242   0.106999\n",
       "tai40a         3260316  0.154501         3233552   1.008500\n",
       "tai60a         7467702  0.594502         7421824   3.870996\n",
       "tai80a        14061060  1.082001        13986514   7.616001\n",
       "tai100a       21771672  1.810001        21704750  15.742002"
      ]
     },
     "execution_count": 56,
     "metadata": {},
     "output_type": "execute_result"
    }
   ],
   "source": [
    "df"
   ]
  }
 ],
 "metadata": {
  "kernelspec": {
   "display_name": "base",
   "language": "python",
   "name": "python3"
  },
  "language_info": {
   "codemirror_mode": {
    "name": "ipython",
    "version": 3
   },
   "file_extension": ".py",
   "mimetype": "text/x-python",
   "name": "python",
   "nbconvert_exporter": "python",
   "pygments_lexer": "ipython3",
   "version": "3.9.12"
  },
  "orig_nbformat": 4
 },
 "nbformat": 4,
 "nbformat_minor": 2
}
