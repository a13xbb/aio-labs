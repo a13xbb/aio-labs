{
 "cells": [
  {
   "cell_type": "code",
   "execution_count": 57,
   "metadata": {},
   "outputs": [],
   "source": [
    "from time import time\n",
    "from typing import Optional, Sequence\n",
    "import pandas as pd\n",
    "import numpy as np"
   ]
  },
  {
   "cell_type": "code",
   "execution_count": 58,
   "metadata": {},
   "outputs": [],
   "source": [
    "def get_flow_value(cur_solution: list, dist: list, flow: list):\n",
    "    value = 0\n",
    "    for i in range(len(cur_solution) - 1):\n",
    "        for j in range(i + 1, len(cur_solution)):\n",
    "            value += dist[i][j] * flow[cur_solution[i]][cur_solution[j]]\n",
    "    value *= 2\n",
    "    return value"
   ]
  },
  {
   "cell_type": "code",
   "execution_count": 59,
   "metadata": {},
   "outputs": [],
   "source": [
    "def swap_factories(solution: list, i: int, j: int):\n",
    "    sol_copy = solution.copy()\n",
    "    tmp = sol_copy[i]\n",
    "    sol_copy[i] = sol_copy[j]\n",
    "    sol_copy[j] = tmp\n",
    "    return sol_copy"
   ]
  },
  {
   "cell_type": "code",
   "execution_count": 60,
   "metadata": {},
   "outputs": [],
   "source": [
    "def local_search(n_factories: int, dist: list, flow: list, starting_point: Optional[Sequence[int]] = None):\n",
    "    '''Local search with first-improvement + don't look bits'''\n",
    "    start = time()\n",
    "    if starting_point is None:\n",
    "        best_sol = [i for i in range(n_factories)]\n",
    "    else:\n",
    "        best_sol = starting_point\n",
    "    best_sol_value = get_flow_value(best_sol, dist, flow)\n",
    "    while True:\n",
    "        dlb = [False for i in range(n_factories)]\n",
    "        improvement_flag = False\n",
    "        for i in range(n_factories):\n",
    "            dlb_flag = True\n",
    "            for j in range(n_factories):\n",
    "                if not dlb[j] and i != j:\n",
    "                    new_sol = swap_factories(best_sol, i, j)\n",
    "                    delta = 0\n",
    "                    for k in range(n_factories):\n",
    "                        if k != i and k != j:\n",
    "                            delta -= dist[i][k] * \\\n",
    "                                flow[best_sol[i]][best_sol[k]]\n",
    "                            delta -= dist[j][k] * \\\n",
    "                                flow[best_sol[j]][best_sol[k]]\n",
    "                            delta += dist[i][k] * flow[new_sol[i]][new_sol[k]]\n",
    "                            delta += dist[j][k] * flow[new_sol[j]][new_sol[k]]\n",
    "                    delta *= 2\n",
    "                    if delta < 0:\n",
    "                        dlb_flag = False\n",
    "                        improvement_flag = True\n",
    "                        best_sol_value += delta\n",
    "                        best_sol = new_sol\n",
    "            if dlb_flag:\n",
    "                dlb[i] = True\n",
    "        if not improvement_flag:\n",
    "            break\n",
    "\n",
    "        # print(best_sol, best_sol_value, '\\n')\n",
    "    end = time()\n",
    "\n",
    "    return best_sol, best_sol_value, end - start"
   ]
  },
  {
   "cell_type": "code",
   "execution_count": 61,
   "metadata": {},
   "outputs": [],
   "source": [
    "data = []"
   ]
  },
  {
   "cell_type": "code",
   "execution_count": 62,
   "metadata": {},
   "outputs": [
    {
     "name": "stdout",
     "output_type": "stream",
     "text": [
      "Best solution: [16, 3, 17, 14, 7, 19, 10, 18, 1, 9, 13, 11, 12, 6, 15, 0, 2, 8, 4, 5]\n",
      "Best solution flow value: 736450\n",
      "Time: 0.013000249862670898\n",
      "\n",
      "Best solution: [23, 28, 39, 22, 15, 37, 34, 13, 0, 9, 3, 26, 25, 24, 5, 27, 21, 17, 6, 8, 20, 31, 1, 19, 12, 16, 35, 10, 2, 29, 14, 38, 32, 30, 33, 18, 36, 7, 11, 4]\n",
      "Best solution flow value: 3260316\n",
      "Time: 0.16299939155578613\n",
      "\n",
      "Best solution: [52, 35, 21, 6, 10, 32, 56, 7, 23, 11, 55, 27, 4, 36, 37, 24, 44, 17, 18, 43, 9, 47, 48, 0, 16, 49, 50, 26, 20, 28, 15, 31, 8, 33, 2, 39, 13, 29, 41, 25, 40, 14, 1, 38, 42, 30, 45, 22, 3, 19, 46, 51, 59, 53, 12, 54, 5, 57, 58, 34]\n",
      "Best solution flow value: 7467702\n",
      "Time: 0.6384997367858887\n",
      "\n",
      "Best solution: [20, 39, 3, 16, 11, 12, 26, 7, 24, 36, 8, 51, 40, 47, 65, 10, 74, 38, 18, 17, 19, 9, 33, 23, 77, 78, 14, 21, 54, 29, 6, 30, 68, 60, 13, 2, 79, 75, 0, 31, 22, 43, 34, 5, 27, 35, 45, 4, 48, 41, 1, 37, 50, 53, 15, 49, 52, 62, 57, 25, 32, 61, 58, 44, 64, 59, 63, 67, 46, 66, 69, 71, 70, 73, 55, 72, 76, 56, 28, 42]\n",
      "Best solution flow value: 14061060\n",
      "Time: 1.1035027503967285\n",
      "\n",
      "Best solution: [12, 35, 73, 87, 5, 19, 28, 13, 53, 9, 14, 15, 10, 69, 36, 75, 56, 64, 47, 42, 4, 58, 99, 11, 7, 21, 23, 70, 61, 25, 95, 29, 32, 83, 34, 17, 1, 85, 38, 39, 91, 37, 33, 49, 0, 46, 60, 20, 31, 43, 50, 51, 89, 16, 22, 55, 6, 57, 97, 8, 81, 76, 79, 54, 72, 65, 52, 27, 3, 67, 26, 71, 44, 66, 18, 40, 86, 24, 63, 62, 84, 30, 82, 77, 59, 74, 93, 68, 88, 45, 94, 41, 92, 80, 90, 48, 78, 96, 2, 98]\n",
      "Best solution flow value: 21771672\n",
      "Time: 1.6845011711120605\n",
      "\n"
     ]
    }
   ],
   "source": [
    "files_list = ['tai20a.txt', 'tai40a.txt', 'tai60a.txt', 'tai80a.txt', 'tai100a.txt']\n",
    " \n",
    "for file in files_list:       \n",
    "    with open(f'benchmarks/{file}', 'r') as f:\n",
    "        dist = []\n",
    "        flow = []\n",
    "        n_factories = int(f.readline())\n",
    "        for i in range(n_factories):\n",
    "            arr = f.readline().split()\n",
    "            arr = list(map(int, arr))\n",
    "            dist.append(arr)\n",
    "        \n",
    "        f.readline()\n",
    "        for i in range(n_factories):\n",
    "            arr = f.readline().split()\n",
    "            arr = list(map(int, arr))\n",
    "            flow.append(arr)\n",
    "        \n",
    "        best_sol, best_sol_value, dt = local_search(n_factories, dist, flow)\n",
    "        data.append([file[:-4] , best_sol_value, dt])\n",
    "        print(f'Best solution: {best_sol}')\n",
    "        print(f'Best solution flow value: {best_sol_value}')\n",
    "        print(f'Time: {dt}\\n')\n",
    "        fsave = file.replace('txt','sol')\n",
    "        with open(f'ls_outputs/{fsave}', 'w') as output_file:\n",
    "            print(*best_sol, file=output_file)"
   ]
  },
  {
   "cell_type": "code",
   "execution_count": 63,
   "metadata": {},
   "outputs": [
    {
     "data": {
      "text/html": [
       "<div>\n",
       "<style scoped>\n",
       "    .dataframe tbody tr th:only-of-type {\n",
       "        vertical-align: middle;\n",
       "    }\n",
       "\n",
       "    .dataframe tbody tr th {\n",
       "        vertical-align: top;\n",
       "    }\n",
       "\n",
       "    .dataframe thead th {\n",
       "        text-align: right;\n",
       "    }\n",
       "</style>\n",
       "<table border=\"1\" class=\"dataframe\">\n",
       "  <thead>\n",
       "    <tr style=\"text-align: right;\">\n",
       "      <th></th>\n",
       "      <th>sample</th>\n",
       "      <th>LS best value</th>\n",
       "      <th>LS time</th>\n",
       "    </tr>\n",
       "  </thead>\n",
       "  <tbody>\n",
       "    <tr>\n",
       "      <th>0</th>\n",
       "      <td>tai20a</td>\n",
       "      <td>736450</td>\n",
       "      <td>0.013000</td>\n",
       "    </tr>\n",
       "    <tr>\n",
       "      <th>1</th>\n",
       "      <td>tai40a</td>\n",
       "      <td>3260316</td>\n",
       "      <td>0.162999</td>\n",
       "    </tr>\n",
       "    <tr>\n",
       "      <th>2</th>\n",
       "      <td>tai60a</td>\n",
       "      <td>7467702</td>\n",
       "      <td>0.638500</td>\n",
       "    </tr>\n",
       "    <tr>\n",
       "      <th>3</th>\n",
       "      <td>tai80a</td>\n",
       "      <td>14061060</td>\n",
       "      <td>1.103503</td>\n",
       "    </tr>\n",
       "    <tr>\n",
       "      <th>4</th>\n",
       "      <td>tai100a</td>\n",
       "      <td>21771672</td>\n",
       "      <td>1.684501</td>\n",
       "    </tr>\n",
       "  </tbody>\n",
       "</table>\n",
       "</div>"
      ],
      "text/plain": [
       "    sample  LS best value   LS time\n",
       "0   tai20a         736450  0.013000\n",
       "1   tai40a        3260316  0.162999\n",
       "2   tai60a        7467702  0.638500\n",
       "3   tai80a       14061060  1.103503\n",
       "4  tai100a       21771672  1.684501"
      ]
     },
     "execution_count": 63,
     "metadata": {},
     "output_type": "execute_result"
    }
   ],
   "source": [
    "ls_df = pd.DataFrame(data, columns=['sample', 'LS best value', 'LS time'])\n",
    "ls_df"
   ]
  },
  {
   "attachments": {},
   "cell_type": "markdown",
   "metadata": {},
   "source": [
    "**Iterated Local Search**"
   ]
  },
  {
   "cell_type": "code",
   "execution_count": 64,
   "metadata": {},
   "outputs": [],
   "source": [
    "data=[]"
   ]
  },
  {
   "cell_type": "code",
   "execution_count": 65,
   "metadata": {},
   "outputs": [],
   "source": [
    "def inverse_k_perturbator(in_seq: Optional[Sequence[int]] = None, k: Optional[int]=None):\n",
    "    if in_seq is None:\n",
    "        return None\n",
    "    else: \n",
    "        l = len(in_seq)\n",
    "        if k is None:\n",
    "            p1, p2 = sorted([np.random.randint(0, l), np.random.randint(0, l)])\n",
    "        else:\n",
    "            p1 = np.random.randint(0, l)\n",
    "            p2 = p1 + k % l\n",
    "            p1,p2 = sorted([p1,p2])\n",
    "        return in_seq[:p1] + list(reversed(in_seq[p1:p2])) + in_seq[p2:]\n"
   ]
  },
  {
   "cell_type": "code",
   "execution_count": 66,
   "metadata": {},
   "outputs": [],
   "source": [
    "def ils(n_factories: int, dist: list, flow: list, \n",
    "         perturbation, n_iters = 1, starting_point: Optional[Sequence[int]] = None):\n",
    "    times = []\n",
    "    best_sol = starting_point\n",
    "    best_sol_value = np.inf\n",
    "    for i in range(n_iters):\n",
    "        new_staring_point = perturbation(best_sol)\n",
    "        new_sol, new_sol_value, dt = local_search(n_factories, dist, flow, new_staring_point)\n",
    "        times.append(dt)\n",
    "        if new_sol_value < best_sol_value:\n",
    "            best_sol_value = new_sol_value\n",
    "            best_sol = new_sol\n",
    "\n",
    "    return best_sol, best_sol_value, sum(times)"
   ]
  },
  {
   "cell_type": "code",
   "execution_count": 67,
   "metadata": {},
   "outputs": [
    {
     "name": "stdout",
     "output_type": "stream",
     "text": [
      "Best solution: [12, 4, 17, 16, 13, 7, 0, 8, 10, 9, 5, 1, 14, 6, 15, 2, 19, 3, 18, 11]\n",
      "Best solution flow value: 728612\n",
      "Time: 0.07349801063537598\n",
      "\n",
      "Best solution: [24, 33, 23, 22, 15, 37, 34, 13, 32, 9, 3, 26, 25, 29, 30, 10, 21, 17, 6, 31, 20, 39, 5, 1, 12, 16, 35, 27, 2, 19, 14, 38, 28, 8, 0, 18, 36, 7, 11, 4]\n",
      "Best solution flow value: 3250064\n",
      "Time: 0.7709996700286865\n",
      "\n",
      "Best solution: [52, 3, 40, 6, 19, 29, 5, 35, 57, 56, 42, 49, 26, 55, 37, 27, 44, 47, 18, 51, 43, 2, 10, 36, 31, 1, 22, 41, 33, 21, 15, 59, 0, 50, 23, 25, 13, 8, 20, 14, 58, 28, 45, 38, 32, 39, 9, 4, 48, 30, 46, 17, 24, 16, 12, 54, 11, 7, 53, 34]\n",
      "Best solution flow value: 7397962\n",
      "Time: 3.5615012645721436\n",
      "\n",
      "Best solution: [21, 26, 61, 35, 31, 1, 54, 77, 8, 73, 19, 5, 13, 53, 68, 6, 45, 29, 12, 50, 43, 9, 79, 23, 40, 38, 14, 65, 27, 48, 39, 34, 4, 17, 11, 10, 66, 47, 0, 16, 30, 76, 41, 55, 33, 56, 18, 60, 69, 32, 42, 37, 22, 3, 59, 49, 52, 62, 2, 51, 44, 78, 58, 67, 15, 75, 63, 25, 46, 57, 64, 71, 70, 20, 36, 72, 7, 74, 28, 24]\n",
      "Best solution flow value: 13951878\n",
      "Time: 9.321502208709717\n",
      "\n",
      "Best solution: [93, 44, 73, 59, 61, 36, 65, 13, 97, 9, 14, 15, 10, 66, 95, 75, 30, 64, 37, 42, 28, 58, 99, 79, 53, 18, 29, 70, 76, 4, 54, 87, 32, 83, 19, 16, 1, 0, 68, 39, 91, 94, 33, 49, 43, 11, 60, 20, 7, 26, 86, 51, 89, 24, 5, 55, 8, 57, 17, 23, 81, 22, 47, 35, 21, 12, 52, 27, 3, 67, 84, 71, 38, 80, 50, 40, 46, 34, 63, 62, 31, 56, 82, 77, 6, 74, 25, 85, 88, 45, 69, 41, 92, 72, 90, 48, 78, 96, 2, 98]\n",
      "Best solution flow value: 21657494\n",
      "Time: 16.901000499725342\n",
      "\n"
     ]
    }
   ],
   "source": [
    "files_list = ['tai20a.txt', 'tai40a.txt', 'tai60a.txt', 'tai80a.txt', 'tai100a.txt']\n",
    " \n",
    "for file in files_list:       \n",
    "    with open(f'benchmarks/{file}', 'r') as f:\n",
    "        dist = []\n",
    "        flow = []\n",
    "        n_factories = int(f.readline())\n",
    "        for i in range(n_factories):\n",
    "            arr = f.readline().split()\n",
    "            arr = list(map(int, arr))\n",
    "            dist.append(arr)\n",
    "        \n",
    "        f.readline()\n",
    "        for i in range(n_factories):\n",
    "            arr = f.readline().split()\n",
    "            arr = list(map(int, arr))\n",
    "            flow.append(arr)\n",
    "        \n",
    "        best_sol, best_sol_value, dt = ils(n_factories, dist, flow, inverse_k_perturbator, 10)\n",
    "        data.append([file[:-4] , best_sol_value, dt])\n",
    "        print(f'Best solution: {best_sol}')\n",
    "        print(f'Best solution flow value: {best_sol_value}')\n",
    "        print(f'Time: {dt}\\n')\n",
    "        fsave = file.replace('txt','sol')\n",
    "        with open(f'ils_outputs/{fsave}', 'w') as output_file:\n",
    "            print(*best_sol, file=output_file)"
   ]
  },
  {
   "cell_type": "code",
   "execution_count": 68,
   "metadata": {},
   "outputs": [],
   "source": [
    "ils_df = pd.DataFrame(data, columns=['sample', 'ILS best value', 'ILS time'])\n",
    "df = ls_df.set_index('sample').join(ils_df.set_index('sample'))"
   ]
  },
  {
   "cell_type": "code",
   "execution_count": 69,
   "metadata": {},
   "outputs": [
    {
     "data": {
      "text/html": [
       "<div>\n",
       "<style scoped>\n",
       "    .dataframe tbody tr th:only-of-type {\n",
       "        vertical-align: middle;\n",
       "    }\n",
       "\n",
       "    .dataframe tbody tr th {\n",
       "        vertical-align: top;\n",
       "    }\n",
       "\n",
       "    .dataframe thead th {\n",
       "        text-align: right;\n",
       "    }\n",
       "</style>\n",
       "<table border=\"1\" class=\"dataframe\">\n",
       "  <thead>\n",
       "    <tr style=\"text-align: right;\">\n",
       "      <th></th>\n",
       "      <th>LS best value</th>\n",
       "      <th>LS time</th>\n",
       "      <th>ILS best value</th>\n",
       "      <th>ILS time</th>\n",
       "    </tr>\n",
       "    <tr>\n",
       "      <th>sample</th>\n",
       "      <th></th>\n",
       "      <th></th>\n",
       "      <th></th>\n",
       "      <th></th>\n",
       "    </tr>\n",
       "  </thead>\n",
       "  <tbody>\n",
       "    <tr>\n",
       "      <th>tai20a</th>\n",
       "      <td>736450</td>\n",
       "      <td>0.013000</td>\n",
       "      <td>728612</td>\n",
       "      <td>0.073498</td>\n",
       "    </tr>\n",
       "    <tr>\n",
       "      <th>tai40a</th>\n",
       "      <td>3260316</td>\n",
       "      <td>0.162999</td>\n",
       "      <td>3250064</td>\n",
       "      <td>0.771000</td>\n",
       "    </tr>\n",
       "    <tr>\n",
       "      <th>tai60a</th>\n",
       "      <td>7467702</td>\n",
       "      <td>0.638500</td>\n",
       "      <td>7397962</td>\n",
       "      <td>3.561501</td>\n",
       "    </tr>\n",
       "    <tr>\n",
       "      <th>tai80a</th>\n",
       "      <td>14061060</td>\n",
       "      <td>1.103503</td>\n",
       "      <td>13951878</td>\n",
       "      <td>9.321502</td>\n",
       "    </tr>\n",
       "    <tr>\n",
       "      <th>tai100a</th>\n",
       "      <td>21771672</td>\n",
       "      <td>1.684501</td>\n",
       "      <td>21657494</td>\n",
       "      <td>16.901000</td>\n",
       "    </tr>\n",
       "  </tbody>\n",
       "</table>\n",
       "</div>"
      ],
      "text/plain": [
       "         LS best value   LS time  ILS best value   ILS time\n",
       "sample                                                     \n",
       "tai20a          736450  0.013000          728612   0.073498\n",
       "tai40a         3260316  0.162999         3250064   0.771000\n",
       "tai60a         7467702  0.638500         7397962   3.561501\n",
       "tai80a        14061060  1.103503        13951878   9.321502\n",
       "tai100a       21771672  1.684501        21657494  16.901000"
      ]
     },
     "execution_count": 69,
     "metadata": {},
     "output_type": "execute_result"
    }
   ],
   "source": [
    "df"
   ]
  }
 ],
 "metadata": {
  "kernelspec": {
   "display_name": "base",
   "language": "python",
   "name": "python3"
  },
  "language_info": {
   "codemirror_mode": {
    "name": "ipython",
    "version": 3
   },
   "file_extension": ".py",
   "mimetype": "text/x-python",
   "name": "python",
   "nbconvert_exporter": "python",
   "pygments_lexer": "ipython3",
   "version": "3.9.12"
  },
  "orig_nbformat": 4
 },
 "nbformat": 4,
 "nbformat_minor": 2
}
