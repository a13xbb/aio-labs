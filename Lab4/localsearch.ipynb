{
 "cells": [
  {
   "cell_type": "code",
   "execution_count": 1,
   "metadata": {},
   "outputs": [],
   "source": [
    "def get_flow_value(cur_solution: list, dist: list, flow: list):\n",
    "    value = 0\n",
    "    for i in range(len(cur_solution) - 1):\n",
    "        for j in range(i + 1, len(cur_solution)):\n",
    "            value += dist[i][j] * flow[cur_solution[i]][cur_solution[j]]\n",
    "    value *= 2\n",
    "    return value"
   ]
  },
  {
   "cell_type": "code",
   "execution_count": 2,
   "metadata": {},
   "outputs": [],
   "source": [
    "def swap_factories(solution: list, i: int, j: int):\n",
    "    sol_copy = solution.copy()\n",
    "    tmp = sol_copy[i]\n",
    "    sol_copy[i] = sol_copy[j]\n",
    "    sol_copy[j] = tmp\n",
    "    return sol_copy"
   ]
  },
  {
   "cell_type": "code",
   "execution_count": 9,
   "metadata": {},
   "outputs": [],
   "source": [
    "def local_search(n_factories: int, dist: list, flow: list):\n",
    "    '''Local search with first-improvement + don't look bits'''\n",
    "    import time\n",
    "    start = time.time()\n",
    "    \n",
    "    best_sol = [i for i in range(n_factories)]\n",
    "    best_sol_value = get_flow_value(best_sol, dist, flow)\n",
    "    while True:\n",
    "        dlb = [False for i in range(n_factories)]\n",
    "        improvement_flag = False\n",
    "        for i in range(n_factories):\n",
    "            dlb_flag = True\n",
    "            for j in range(n_factories):\n",
    "                if not dlb[j] and i != j:\n",
    "                    new_sol = swap_factories(best_sol, i, j)\n",
    "                    delta = 0\n",
    "                    for k in range(n_factories):\n",
    "                        if k != i and k != j:\n",
    "                            delta -= dist[i][k] * flow[best_sol[i]][best_sol[k]]\n",
    "                            delta -= dist[j][k] * flow[best_sol[j]][best_sol[k]]\n",
    "                            delta += dist[i][k] * flow[new_sol[i]][new_sol[k]]\n",
    "                            delta += dist[j][k] * flow[new_sol[j]][new_sol[k]]\n",
    "                    delta *= 2\n",
    "                    if delta > 0:\n",
    "                        dlb_flag = False\n",
    "                        improvement_flag = True\n",
    "                        best_sol_value += delta\n",
    "                        best_sol = new_sol\n",
    "            if dlb_flag:\n",
    "                dlb[i] = True\n",
    "        if not improvement_flag:\n",
    "            break\n",
    "        \n",
    "        # print(best_sol, best_sol_value, '\\n')\n",
    "    end = time.time()    \n",
    "    \n",
    "    return best_sol, best_sol_value, end - start"
   ]
  },
  {
   "cell_type": "code",
   "execution_count": 12,
   "metadata": {},
   "outputs": [],
   "source": [
    "data = []"
   ]
  },
  {
   "cell_type": "code",
   "execution_count": 14,
   "metadata": {},
   "outputs": [
    {
     "name": "stdout",
     "output_type": "stream",
     "text": [
      "Best solution: [3, 11, 9, 5, 15, 16, 6, 7, 14, 2, 8, 17, 18, 1, 19, 0, 13, 4, 12, 10]\n",
      "Best solution flow value: 1043396\n",
      "Time: 0.009002208709716797\n",
      "\n",
      "Best solution: [26, 2, 18, 5, 24, 8, 39, 1, 19, 7, 29, 32, 3, 28, 11, 13, 25, 38, 27, 12, 9, 20, 15, 14, 36, 16, 0, 37, 6, 21, 17, 31, 22, 30, 34, 35, 10, 4, 33, 23]\n",
      "Best solution flow value: 4305536\n",
      "Time: 0.14799880981445312\n",
      "\n",
      "Best solution: [40, 8, 21, 14, 27, 17, 1, 35, 34, 0, 44, 59, 30, 2, 13, 16, 58, 6, 57, 3, 54, 4, 7, 22, 37, 10, 12, 25, 26, 23, 20, 18, 36, 33, 32, 11, 46, 19, 38, 5, 41, 31, 42, 43, 29, 39, 56, 51, 9, 48, 50, 28, 52, 53, 47, 55, 45, 24, 49, 15]\n",
      "Best solution flow value: 9447574\n",
      "Time: 0.36550021171569824\n",
      "\n",
      "Best solution: [64, 24, 33, 4, 10, 40, 56, 46, 3, 61, 39, 27, 57, 73, 8, 50, 18, 74, 23, 19, 22, 28, 1, 17, 15, 49, 12, 6, 21, 0, 30, 71, 38, 52, 29, 14, 37, 36, 63, 42, 79, 77, 26, 2, 72, 45, 43, 48, 9, 32, 69, 51, 35, 53, 54, 76, 7, 41, 34, 44, 60, 16, 11, 31, 59, 65, 66, 58, 68, 55, 70, 25, 20, 13, 47, 75, 67, 62, 78, 5]\n",
      "Best solution flow value: 17250548\n",
      "Time: 0.8704996109008789\n",
      "\n",
      "Best solution: [65, 69, 42, 68, 98, 57, 89, 83, 60, 81, 3, 88, 75, 11, 44, 10, 16, 27, 90, 63, 92, 12, 9, 48, 24, 79, 7, 46, 22, 85, 18, 19, 28, 33, 26, 20, 0, 40, 35, 91, 31, 39, 52, 36, 8, 99, 72, 43, 32, 6, 50, 14, 58, 97, 70, 82, 51, 37, 66, 25, 55, 49, 56, 61, 30, 13, 23, 62, 47, 53, 54, 95, 1, 34, 74, 76, 64, 73, 78, 67, 59, 86, 45, 17, 80, 41, 21, 2, 87, 5, 77, 38, 29, 93, 94, 84, 96, 4, 71, 15]\n",
      "Best solution flow value: 26188816\n",
      "Time: 1.049999475479126\n",
      "\n"
     ]
    }
   ],
   "source": [
    "files_list = ['tai20a.txt', 'tai40a.txt', 'tai60a.txt', 'tai80a.txt', 'tai100a.txt']\n",
    " \n",
    "for file in files_list:       \n",
    "    with open(f'Lab4/benchmarks/{file}', 'r') as f:\n",
    "        dist = []\n",
    "        flow = []\n",
    "        n_factories = int(f.readline())\n",
    "        for i in range(n_factories):\n",
    "            arr = f.readline().split()\n",
    "            arr = list(map(int, arr))\n",
    "            dist.append(arr)\n",
    "        \n",
    "        f.readline()\n",
    "        for i in range(n_factories):\n",
    "            arr = f.readline().split()\n",
    "            arr = list(map(int, arr))\n",
    "            flow.append(arr)\n",
    "        \n",
    "        best_sol, best_sol_value, time = local_search(n_factories, dist, flow)\n",
    "        data.append([file[:-4] , best_sol_value, time])\n",
    "        print(f'Best solution: {best_sol}')\n",
    "        print(f'Best solution flow value: {best_sol_value}')\n",
    "        print(f'Time: {time}\\n')\n",
    "        with open(f'Lab4/ls_outputs/{file}', 'w') as output_file:\n",
    "            print(*best_sol, file=output_file)"
   ]
  },
  {
   "cell_type": "code",
   "execution_count": 20,
   "metadata": {},
   "outputs": [
    {
     "data": {
      "text/html": [
       "<div>\n",
       "<style scoped>\n",
       "    .dataframe tbody tr th:only-of-type {\n",
       "        vertical-align: middle;\n",
       "    }\n",
       "\n",
       "    .dataframe tbody tr th {\n",
       "        vertical-align: top;\n",
       "    }\n",
       "\n",
       "    .dataframe thead th {\n",
       "        text-align: right;\n",
       "    }\n",
       "</style>\n",
       "<table border=\"1\" class=\"dataframe\">\n",
       "  <thead>\n",
       "    <tr style=\"text-align: right;\">\n",
       "      <th></th>\n",
       "      <th>sample</th>\n",
       "      <th>LS best value</th>\n",
       "      <th>LS time</th>\n",
       "    </tr>\n",
       "  </thead>\n",
       "  <tbody>\n",
       "    <tr>\n",
       "      <th>0</th>\n",
       "      <td>tai20a</td>\n",
       "      <td>1043396</td>\n",
       "      <td>0.009002</td>\n",
       "    </tr>\n",
       "    <tr>\n",
       "      <th>1</th>\n",
       "      <td>tai40a</td>\n",
       "      <td>4305536</td>\n",
       "      <td>0.147999</td>\n",
       "    </tr>\n",
       "    <tr>\n",
       "      <th>2</th>\n",
       "      <td>tai60a</td>\n",
       "      <td>9447574</td>\n",
       "      <td>0.365500</td>\n",
       "    </tr>\n",
       "    <tr>\n",
       "      <th>3</th>\n",
       "      <td>tai80a</td>\n",
       "      <td>17250548</td>\n",
       "      <td>0.870500</td>\n",
       "    </tr>\n",
       "    <tr>\n",
       "      <th>4</th>\n",
       "      <td>tai100a</td>\n",
       "      <td>26188816</td>\n",
       "      <td>1.049999</td>\n",
       "    </tr>\n",
       "  </tbody>\n",
       "</table>\n",
       "</div>"
      ],
      "text/plain": [
       "    sample  LS best value   LS time\n",
       "0   tai20a        1043396  0.009002\n",
       "1   tai40a        4305536  0.147999\n",
       "2   tai60a        9447574  0.365500\n",
       "3   tai80a       17250548  0.870500\n",
       "4  tai100a       26188816  1.049999"
      ]
     },
     "execution_count": 20,
     "metadata": {},
     "output_type": "execute_result"
    }
   ],
   "source": [
    "import pandas as pd\n",
    "\n",
    "df = pd.DataFrame(data, columns=['sample', 'LS best value', 'LS time'])\n",
    "df"
   ]
  }
 ],
 "metadata": {
  "kernelspec": {
   "display_name": "base",
   "language": "python",
   "name": "python3"
  },
  "language_info": {
   "codemirror_mode": {
    "name": "ipython",
    "version": 3
   },
   "file_extension": ".py",
   "mimetype": "text/x-python",
   "name": "python",
   "nbconvert_exporter": "python",
   "pygments_lexer": "ipython3",
   "version": "3.9.12"
  },
  "orig_nbformat": 4
 },
 "nbformat": 4,
 "nbformat_minor": 2
}
