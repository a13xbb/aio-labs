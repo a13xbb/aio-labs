{
 "cells": [
  {
   "cell_type": "code",
   "execution_count": 9,
   "metadata": {},
   "outputs": [],
   "source": [
    "from utils import weights_dp, count_profit, count_weights, upper_bound\n",
    "import random"
   ]
  },
  {
   "cell_type": "code",
   "execution_count": 3,
   "metadata": {},
   "outputs": [],
   "source": [
    "def correct_chromosome(chromosome: list, weights: list, profits: list, max_weight: int):\n",
    "    from random import randint\n",
    "    one_indices = [i for i, item in enumerate(chromosome) if item == 1]\n",
    "    cur_weight = count_weights(chromosome, weights)\n",
    "    cur_profit = count_profit(chromosome, profits)\n",
    "    while cur_weight > max_weight:\n",
    "        cur_index = one_indices[randint(0, len(one_indices) - 1)]\n",
    "        one_indices.remove(cur_index)\n",
    "        chromosome[cur_index] = 0\n",
    "        cur_weight -= weights[cur_index]\n",
    "        cur_profit -= profits[cur_index]\n",
    "    return chromosome, cur_profit, cur_weight"
   ]
  },
  {
   "cell_type": "code",
   "execution_count": 4,
   "metadata": {},
   "outputs": [],
   "source": [
    "def generate_chromosome(capacity: int, profits: list, weights: list, ):\n",
    "    from random import random\n",
    "    chromosome = []\n",
    "    for i in range(len(weights)):\n",
    "        gene = 0 if random() < 0.5 else 1\n",
    "        chromosome.append(gene)\n",
    "    chromosome, profit, weight = correct_chromosome(chromosome, weights, profits, capacity)\n",
    "    return chromosome, profit, weight"
   ]
  },
  {
   "cell_type": "code",
   "execution_count": 5,
   "metadata": {},
   "outputs": [
    {
     "data": {
      "text/plain": [
       "([0, 1, 1], 12, 11)"
      ]
     },
     "execution_count": 5,
     "metadata": {},
     "output_type": "execute_result"
    }
   ],
   "source": [
    "generate_chromosome(11, [10, 5, 7], [5, 6, 5])"
   ]
  },
  {
   "cell_type": "code",
   "execution_count": 48,
   "metadata": {},
   "outputs": [],
   "source": [
    "def mutate_chromosome(chromosome: list):\n",
    "    mut_index = random.randint(0, len(chromosome) - 1)\n",
    "    chromosome[mut_index] = int(not chromosome[mut_index])\n",
    "    return chromosome"
   ]
  },
  {
   "cell_type": "code",
   "execution_count": 271,
   "metadata": {},
   "outputs": [],
   "source": [
    "N_GROUPS = 4\n",
    "SELECT_INTERVALS = [0.1, 0.3, 0.6, 1]\n",
    "\n",
    "def genetic_alg(cap: int, profits: list, weights: list, mutation_prob = 0.15, n_chromosomes = 8, n_iterations=30):\n",
    "    chromosomes_list = []\n",
    "    for i in range(n_chromosomes):\n",
    "        chromosomes_list.append(generate_chromosome(cap, profits, weights))\n",
    "    chromosomes_list = sorted(chromosomes_list, key=lambda item: item[1])\n",
    "    \n",
    "    for i in range(n_iterations):\n",
    "        group1_index = upper_bound(SELECT_INTERVALS, random.random()) + 1\n",
    "        chromo1_index = random.randint((group1_index - 1) * 4, group1_index * 4 - 1)\n",
    "        \n",
    "        group2_index = upper_bound(SELECT_INTERVALS, random.random()) + 1\n",
    "        chromo2_index = random.randint((group1_index - 1) * 4, group1_index * 4 - 1)\n",
    "        \n",
    "        while chromo2_index == chromo1_index:\n",
    "            group2_index = upper_bound(SELECT_INTERVALS, random.random()) + 1\n",
    "            chromo2_index = random.randint((group1_index - 1) * 4, group1_index * 4 - 1)\n",
    "            \n",
    "        chromo1 = chromosomes_list[chromo1_index][0]\n",
    "        chromo2 = chromosomes_list[chromo2_index][0]\n",
    "        \n",
    "        swap_index = random.randint(0, len(chromo1) - 1)\n",
    "        part1_1, part2_1= chromo1[:swap_index], chromo2[:swap_index]\n",
    "        \n",
    "        chromo1 = part2_1 + chromo1[swap_index:]\n",
    "        chromo2 = part1_1 + chromo2[swap_index:]\n",
    "        \n",
    "        if random.random() < mutation_prob:\n",
    "            if random.random() < 0.5:\n",
    "                chromo1 = mutate_chromosome(chromo1)\n",
    "            else:\n",
    "                chromo2 = mutate_chromosome(chromo2)\n",
    "        \n",
    "        chromo1 = correct_chromosome(chromo1, weights, profits, cap)\n",
    "        chromo2 = correct_chromosome(chromo2, weights, profits, cap)\n",
    "        \n",
    "        # print(chromo1, chromo2)\n",
    "        \n",
    "        chromosomes_list[chromo1_index] = chromo1\n",
    "        chromosomes_list[chromo2_index] = chromo2\n",
    "        \n",
    "        chromosomes_list = sorted(chromosomes_list, key=lambda item: item[1])\n",
    "     \n",
    "    return chromosomes_list[-1]\n",
    "    \n",
    "    "
   ]
  },
  {
   "cell_type": "code",
   "execution_count": 7,
   "metadata": {},
   "outputs": [],
   "source": [
    "folder = '../Lab2/benchmarks/'\n",
    "files_list = []\n",
    "for i in range(1, 8):\n",
    "    files_list.append((f'{folder}p0{i}_c.txt', f'{folder}p0{i}_w.txt', f'{folder}p0{i}_p.txt', f'{folder}p0{i}_s.txt'))"
   ]
  },
  {
   "cell_type": "code",
   "execution_count": 290,
   "metadata": {},
   "outputs": [
    {
     "name": "stdout",
     "output_type": "stream",
     "text": [
      "capacity: 165\n",
      "max profit: 309\n",
      "optimal items: [1, 1, 1, 1, 0, 1, 0, 0, 0, 0]\n",
      "----------------------\n",
      "genetic alg:\n",
      "items: [1, 1, 1, 1, 0, 1, 0, 0, 0, 0]\n",
      "profit: 309\n",
      "weight: [1, 1, 1, 1, 0, 1, 0, 0, 0, 0]\n",
      "----------------------\n",
      "\n",
      "\n",
      "\n",
      "capacity: 26\n",
      "max profit: 51\n",
      "optimal items: [0, 1, 1, 1, 0]\n",
      "----------------------\n",
      "genetic alg:\n",
      "items: [0, 1, 1, 1, 0]\n",
      "profit: 51\n",
      "weight: [0, 1, 1, 1, 0]\n",
      "----------------------\n",
      "\n",
      "\n",
      "\n",
      "capacity: 190\n",
      "max profit: 150\n",
      "optimal items: [1, 1, 0, 0, 1, 0]\n",
      "----------------------\n",
      "genetic alg:\n",
      "items: [1, 1, 0, 0, 1, 0]\n",
      "profit: 150\n",
      "weight: [1, 1, 0, 0, 1, 0]\n",
      "----------------------\n",
      "\n",
      "\n",
      "\n",
      "capacity: 50\n",
      "max profit: 107\n",
      "optimal items: [1, 0, 0, 1, 0, 0, 0]\n",
      "----------------------\n",
      "genetic alg:\n",
      "items: [1, 0, 0, 1, 0, 0, 0]\n",
      "profit: 107\n",
      "weight: [1, 0, 0, 1, 0, 0, 0]\n",
      "----------------------\n",
      "\n",
      "\n",
      "\n",
      "capacity: 104\n",
      "max profit: 900\n",
      "optimal items: [1, 0, 1, 1, 1, 0, 1, 1]\n",
      "----------------------\n",
      "genetic alg:\n",
      "items: [1, 0, 1, 1, 1, 0, 1, 1]\n",
      "profit: 900\n",
      "weight: [1, 0, 1, 1, 1, 0, 1, 1]\n",
      "----------------------\n",
      "\n",
      "\n",
      "\n",
      "capacity: 170\n",
      "max profit: 1735\n",
      "optimal items: [0, 1, 0, 1, 0, 0, 1]\n",
      "----------------------\n",
      "genetic alg:\n",
      "items: [0, 1, 0, 1, 0, 0, 1]\n",
      "profit: 1735\n",
      "weight: [0, 1, 0, 1, 0, 0, 1]\n",
      "----------------------\n",
      "\n",
      "\n",
      "\n",
      "capacity: 750\n",
      "max profit: 1458\n",
      "optimal items: [1, 0, 1, 0, 1, 0, 1, 1, 1, 0, 0, 0, 0, 1, 1]\n",
      "----------------------\n",
      "genetic alg:\n",
      "items: [1, 0, 1, 1, 0, 0, 1, 1, 0, 1, 0, 1, 0, 0, 1]\n",
      "profit: 1446\n",
      "weight: [1, 0, 1, 1, 0, 0, 1, 1, 0, 1, 0, 1, 0, 0, 1]\n",
      "----------------------\n",
      "\n",
      "\n",
      "\n"
     ]
    }
   ],
   "source": [
    "for i, sample in enumerate(files_list):\n",
    "    with open(sample[0], 'r') as c, open(sample[1], 'r') as w, open(sample[2], 'r') as p, open(sample[3], 'r') as s:\n",
    "        capacity = int(c.read())\n",
    "        weights = list(map(int, w.read().split()))\n",
    "        profits = list(map(int, p.read().split()))\n",
    "        answer = list(map(int, s.read().split()))\n",
    "        dp_items, dp_ans = weights_dp(cap=capacity, p=profits, w=weights)\n",
    "        assert answer == dp_items\n",
    "        print(f'capacity: {capacity}')\n",
    "        print(f'max profit: {dp_ans}')\n",
    "        print(f'optimal items: {answer}')\n",
    "        alg_items, alg_profit, alg_weight = genetic_alg(capacity, profits, weights, n_chromosomes=32, n_iterations=2500) #best: 32 chromes, 60 iters\n",
    "        print('----------------------')\n",
    "        print(f'genetic alg:')\n",
    "        print(f'items: {alg_items}')\n",
    "        print(f'profit: {alg_profit}')\n",
    "        print(f'weight: {alg_items}')\n",
    "        print('----------------------\\n')\n",
    "        "
   ]
  }
 ],
 "metadata": {
  "kernelspec": {
   "display_name": "base",
   "language": "python",
   "name": "python3"
  },
  "language_info": {
   "codemirror_mode": {
    "name": "ipython",
    "version": 3
   },
   "file_extension": ".py",
   "mimetype": "text/x-python",
   "name": "python",
   "nbconvert_exporter": "python",
   "pygments_lexer": "ipython3",
   "version": "3.9.12"
  },
  "orig_nbformat": 4
 },
 "nbformat": 4,
 "nbformat_minor": 2
}
