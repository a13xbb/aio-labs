{
 "cells": [
  {
   "cell_type": "code",
   "execution_count": 1,
   "metadata": {},
   "outputs": [],
   "source": [
    "import numpy as np"
   ]
  },
  {
   "cell_type": "code",
   "execution_count": 2,
   "metadata": {},
   "outputs": [],
   "source": [
    "def adj_d(a, b, adj): return adj[a, b]\n",
    "\n",
    "\n",
    "def euc_2d(a, b): return np.linalg.norm(x=a-b, ord=2)\n",
    "\n",
    "\n",
    "def att(a, b):\n",
    "    d = euc_2d(a, b)\n",
    "    d_ = float(int(d))\n",
    "\n",
    "    if d_ < d:\n",
    "        return d_ + 1.\n",
    "    else:\n",
    "        return d_"
   ]
  },
  {
   "cell_type": "code",
   "execution_count": 49,
   "metadata": {},
   "outputs": [],
   "source": [
    "def make_genes(idxs, n):\n",
    "    def make_gene(): return np.random.permutation(idxs)\n",
    "    return [make_gene().tolist() for i in range(0, n)]\n",
    "\n",
    "\n",
    "def ord_crossover(a, b, window=5, verbose=False):\n",
    "\n",
    "    p1 = np.random.randint(0, len(a))\n",
    "\n",
    "    p2 = (p1 + window) % len(a)\n",
    "\n",
    "    l = len(a)\n",
    "\n",
    "    if p2 < p1:\n",
    "        p1, p2 = p2, p1\n",
    "\n",
    "    o1 = a[p1:p2]\n",
    "    o2 = b[p1:p2]\n",
    "\n",
    "    if verbose:\n",
    "        print(o1, o2)\n",
    "\n",
    "    a = [e for e in a[p2:]+a[:p2] if e not in o2]\n",
    "    b = [e for e in b[p2:]+b[:p2] if e not in o1]\n",
    "\n",
    "    if verbose:\n",
    "        print(b[l-p2:]+[\"o1\"]+b[:l-p2], a[l-p2:]+[\"o2\"]+a[:l-p2])\n",
    "\n",
    "    o1 = b[l-p2:]+o1+b[:l-p2]\n",
    "    o2 = a[l-p2:]+o2+a[:l-p2]\n",
    "\n",
    "    return o1, o2\n",
    "\n",
    "\n",
    "def disp_mutation(a, window=5, p=0.01, verbose=False):\n",
    "    bit_mask = np.random.choice(a=[True, False], size=len(a), p=[p, 1-p])\n",
    "\n",
    "    for i, mut in enumerate(bit_mask):\n",
    "        if mut:\n",
    "            p1 = i\n",
    "            p2 = (p1 + window) % len(a)\n",
    "\n",
    "            if p2 < p1:\n",
    "                p1, p2 = p2, p1\n",
    "\n",
    "            if verbose:\n",
    "                print(a[p1: p2])\n",
    "\n",
    "            a__ = [e for e in a if e not in a[p1: p2]]\n",
    "            p3 = np.random.randint(0, len(a__))\n",
    "\n",
    "            a = a__[:p3]+a[p1: p2]+a__[p3:]\n",
    "\n",
    "    return a\n",
    "\n",
    "\n",
    "def fitness(gene, adj, func):\n",
    "    if func == adj_d:\n",
    "        return sum([func(gene[i], gene[(i+1)%len(gene)], adj) for i in range(0, len(gene))])\n",
    "    else:\n",
    "        return sum([func(adj[gene[i]], adj[gene[(i+1)%len(gene)]]) for i in range(0, len(gene))])"
   ]
  },
  {
   "cell_type": "code",
   "execution_count": 60,
   "metadata": {},
   "outputs": [],
   "source": [
    "class EvolutionTSP():\n",
    "    def __init__(self, path, population_n, cross=ord_crossover, mutation=disp_mutation):\n",
    "        self.cross = cross\n",
    "        self.mutation = mutation\n",
    "        self.adj = np.random.random((10,10))\n",
    "        self.fit_type = adj_d\n",
    "\n",
    "        self.population = make_genes(len(self.adj), population_n)\n",
    "        pass\n",
    "    \n",
    "    def get_best(self):\n",
    "        chromo = sorted(self.population, key=lambda x : fitness(x, self.adj, self.fit_type))[0]\n",
    "        score = fitness(chromo, self.adj, self.fit_type)\n",
    "        return chromo, score\n",
    "\n",
    "    def __call__(self):\n",
    "        self.population = sorted(self.population, key=lambda x : fitness(x, self.adj, self.fit_type))\n",
    "        l = len(self.population)\n",
    "        l_4 = int(l/4)\n",
    "\n",
    "        next_generation = []\n",
    "\n",
    "        for i in range(0, int(l/2)):\n",
    "            g1 = np.random.choice(a=[0, 1, 2, 3], p=[0.5, 0.3, 0.15, 0.05])\n",
    "            g2 = np.random.choice(a=[0, 1, 2, 3], p=[0.5, 0.3, 0.15, 0.05])\n",
    "            p1 = g1 + np.random.randint(0, l_4)\n",
    "            p2 = g2 + np.random.randint(0, l_4)\n",
    "            o1, o2 = self.cross(self.population[p1], self.population[p2])\n",
    "            next_generation.append(self.mutation(o1))\n",
    "            next_generation.append(self.mutation(o2))\n",
    "\n",
    "        self.population = next_generation"
   ]
  },
  {
   "cell_type": "code",
   "execution_count": 61,
   "metadata": {},
   "outputs": [],
   "source": [
    "tsp = EvolutionTSP(None, 10)"
   ]
  },
  {
   "cell_type": "code",
   "execution_count": 62,
   "metadata": {},
   "outputs": [
    {
     "data": {
      "text/plain": [
       "[[2, 8, 5, 9, 1, 6, 4, 7, 0, 3],\n",
       " [5, 8, 3, 9, 0, 2, 7, 6, 4, 1],\n",
       " [8, 2, 6, 7, 3, 4, 5, 1, 0, 9],\n",
       " [3, 0, 8, 5, 1, 2, 9, 6, 7, 4],\n",
       " [2, 7, 8, 5, 6, 4, 3, 9, 0, 1],\n",
       " [3, 5, 8, 2, 1, 9, 6, 7, 0, 4],\n",
       " [5, 0, 2, 4, 1, 7, 3, 8, 6, 9],\n",
       " [2, 7, 1, 5, 9, 4, 0, 3, 8, 6],\n",
       " [3, 9, 6, 8, 4, 7, 1, 0, 2, 5],\n",
       " [9, 3, 7, 4, 0, 2, 1, 6, 8, 5]]"
      ]
     },
     "execution_count": 62,
     "metadata": {},
     "output_type": "execute_result"
    }
   ],
   "source": [
    "tsp.population"
   ]
  },
  {
   "cell_type": "code",
   "execution_count": 63,
   "metadata": {},
   "outputs": [],
   "source": [
    "tsp()"
   ]
  },
  {
   "cell_type": "code",
   "execution_count": 64,
   "metadata": {},
   "outputs": [
    {
     "data": {
      "text/plain": [
       "[[5, 3, 7, 4, 0, 2, 1, 8, 6, 9],\n",
       " [9, 0, 2, 4, 1, 7, 3, 6, 8, 5],\n",
       " [2, 7, 8, 5, 6, 4, 3, 9, 0, 1],\n",
       " [2, 7, 8, 5, 6, 4, 3, 9, 0, 1],\n",
       " [7, 3, 8, 5, 1, 2, 9, 6, 0, 4],\n",
       " [5, 9, 2, 4, 1, 7, 3, 6, 0, 8],\n",
       " [4, 0, 8, 5, 1, 2, 9, 6, 3, 7],\n",
       " [5, 4, 0, 2, 1, 6, 9, 7, 3, 8],\n",
       " [9, 4, 0, 2, 1, 7, 3, 8, 6, 5],\n",
       " [5, 4, 6, 7, 3, 0, 2, 1, 8, 9]]"
      ]
     },
     "execution_count": 64,
     "metadata": {},
     "output_type": "execute_result"
    }
   ],
   "source": [
    "tsp.population"
   ]
  }
 ],
 "metadata": {
  "kernelspec": {
   "display_name": ".venv",
   "language": "python",
   "name": "python3"
  },
  "language_info": {
   "codemirror_mode": {
    "name": "ipython",
    "version": 3
   },
   "file_extension": ".py",
   "mimetype": "text/x-python",
   "name": "python",
   "nbconvert_exporter": "python",
   "pygments_lexer": "ipython3",
   "version": "3.10.6"
  },
  "orig_nbformat": 4
 },
 "nbformat": 4,
 "nbformat_minor": 2
}
