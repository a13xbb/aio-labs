{
 "cells": [
  {
   "cell_type": "code",
   "execution_count": 1,
   "metadata": {},
   "outputs": [],
   "source": [
    "import numpy as np"
   ]
  },
  {
   "cell_type": "code",
   "execution_count": 2,
   "metadata": {},
   "outputs": [],
   "source": [
    "def adj_d(a, b, adj): return adj[a, b]\n",
    "\n",
    "\n",
    "def euc_2d(a, b): return np.linalg.norm(x=a-b, ord=2)\n",
    "\n",
    "\n",
    "def att(a, b):\n",
    "    d = euc_2d(a, b)\n",
    "    d_ = float(int(d))\n",
    "\n",
    "    if d_ < d:\n",
    "        return d_ + 1.\n",
    "    else:\n",
    "        return d_"
   ]
  },
  {
   "cell_type": "code",
   "execution_count": 3,
   "metadata": {},
   "outputs": [],
   "source": [
    "def make_genes(idxs, n):\n",
    "    def make_gene(): return np.random.permutation(idxs)\n",
    "    return [make_gene() for i in range(0, n)]\n",
    "\n",
    "\n",
    "def ord_crossover(a, b, window=5, verbose=False):\n",
    "\n",
    "    p1 = np.random.randint(0, len(a))\n",
    "\n",
    "    p2 = (p1 + window) % len(a)\n",
    "\n",
    "    l = len(a)\n",
    "\n",
    "    if p2 < p1:\n",
    "        p1, p2 = p2, p1\n",
    "\n",
    "    o1 = a[p1:p2]\n",
    "    o2 = b[p1:p2]\n",
    "\n",
    "    if verbose:\n",
    "        print(o1, o2)\n",
    "\n",
    "    a = [e for e in a[p2:]+a[:p2] if e not in o2]\n",
    "    b = [e for e in b[p2:]+b[:p2] if e not in o1]\n",
    "\n",
    "    if verbose:\n",
    "        print(b[l-p2:]+[\"o1\"]+b[:l-p2], a[l-p2:]+[\"o2\"]+a[:l-p2])\n",
    "\n",
    "    o1 = b[l-p2:]+o1+b[:l-p2]\n",
    "    o2 = a[l-p2:]+o2+a[:l-p2]\n",
    "\n",
    "    return o1, o2\n",
    "\n",
    "\n",
    "def disp_mutation(a, window=5, p=0.01, verbose=False):\n",
    "    bit_mask = np.random.choice(a=[True, False], size=len(a), p=[p, 1-p])\n",
    "\n",
    "    for i, mut in enumerate(bit_mask):\n",
    "        if mut:\n",
    "            p1 = i\n",
    "            p2 = (p1 + window) % len(a)\n",
    "\n",
    "            if p2 < p1:\n",
    "                p1, p2 = p2, p1\n",
    "\n",
    "            if verbose:\n",
    "                print(a[p1: p2])\n",
    "\n",
    "            a__ = [e for e in a if e not in a[p1: p2]]\n",
    "            p3 = np.random.randint(0, len(a__))\n",
    "\n",
    "            a = a__[:p3]+a[p1: p2]+a__[p3:]\n",
    "\n",
    "    return a\n",
    "\n",
    "\n",
    "def fitness(gene, adj, func):\n",
    "    if func == adj_d:\n",
    "        return sum([func(gene[i], gene[(i+1)%len(gene)], adj) for i in range(0, len(gene))])\n",
    "    else:\n",
    "        return sum([func(adj[gene[i]], adj[gene[(i+1)%len(gene)]]) for i in range(0, len(gene))])"
   ]
  },
  {
   "cell_type": "code",
   "execution_count": 6,
   "metadata": {},
   "outputs": [],
   "source": [
    "class EvolutionTSP():\n",
    "    def __init__(self, path, population_n, cross=ord_crossover, mutation=disp_mutation):\n",
    "        self.cross = cross\n",
    "        self.mutation = mutation\n",
    "        self.adj = [10]*10\n",
    "        self.fit_type = None\n",
    "\n",
    "        self.population = make_genes(len(self.adj), population_n)\n",
    "        pass\n",
    "\n",
    "    def __call__(self):\n",
    "        self.population = sorted(self.population, key=lambda x : fitness(x, self.adj, self.fit_type))\n",
    "        l = len(self.population)\n",
    "        l_4 = int(l/4)\n",
    "\n",
    "        next_generation = []\n",
    "\n",
    "        for i in range(0, l):\n",
    "            g1 = np.random.choice(a=[0, 1, 2, 3], p=[0.5, 0.3, 0.15, 0.05])\n",
    "            g2 = np.random.choice(a=[0, 1, 2, 3], p=[0.5, 0.3, 0.15, 0.05])\n",
    "            p1 = g1 + np.random.randint(0, l_4)\n",
    "            p2 = g2 + np.random.randint(0, l_4)\n",
    "            o1, o2 = self.cross(self.population[p1], self.population[p2])\n",
    "            next_generation.append(o1)\n",
    "            next_generation.append(o2)\n",
    "            \n",
    "        self.population = map(self.muatation, next_generation)"
   ]
  },
  {
   "cell_type": "code",
   "execution_count": 7,
   "metadata": {},
   "outputs": [],
   "source": [
    "tsp = EvolutionTSP(None, 10)"
   ]
  },
  {
   "cell_type": "code",
   "execution_count": 8,
   "metadata": {},
   "outputs": [
    {
     "data": {
      "text/plain": [
       "[array([6, 5, 3, 8, 4, 9, 2, 7, 1, 0]),\n",
       " array([4, 5, 3, 8, 2, 9, 1, 7, 6, 0]),\n",
       " array([7, 5, 0, 3, 2, 1, 8, 9, 4, 6]),\n",
       " array([0, 8, 9, 5, 7, 4, 1, 3, 2, 6]),\n",
       " array([1, 9, 7, 3, 0, 4, 5, 6, 8, 2]),\n",
       " array([1, 0, 7, 4, 8, 2, 9, 6, 5, 3]),\n",
       " array([6, 0, 5, 7, 1, 8, 3, 4, 2, 9]),\n",
       " array([1, 4, 5, 6, 8, 7, 0, 3, 9, 2]),\n",
       " array([0, 5, 3, 8, 2, 1, 6, 4, 9, 7]),\n",
       " array([0, 7, 4, 2, 3, 9, 1, 5, 8, 6])]"
      ]
     },
     "execution_count": 8,
     "metadata": {},
     "output_type": "execute_result"
    }
   ],
   "source": [
    "tsp.population"
   ]
  },
  {
   "cell_type": "code",
   "execution_count": 9,
   "metadata": {},
   "outputs": [
    {
     "ename": "TypeError",
     "evalue": "EvolutionTSP.__call__.<locals>.<lambda>() missing 1 required positional argument: 'y'",
     "output_type": "error",
     "traceback": [
      "\u001b[0;31m---------------------------------------------------------------------------\u001b[0m",
      "\u001b[0;31mTypeError\u001b[0m                                 Traceback (most recent call last)",
      "Cell \u001b[0;32mIn[9], line 1\u001b[0m\n\u001b[0;32m----> 1\u001b[0m tsp()\n",
      "Cell \u001b[0;32mIn[6], line 12\u001b[0m, in \u001b[0;36mEvolutionTSP.__call__\u001b[0;34m(self)\u001b[0m\n\u001b[1;32m     11\u001b[0m \u001b[39mdef\u001b[39;00m \u001b[39m__call__\u001b[39m(\u001b[39mself\u001b[39m):\n\u001b[0;32m---> 12\u001b[0m     \u001b[39mself\u001b[39m\u001b[39m.\u001b[39mpopulation \u001b[39m=\u001b[39m \u001b[39msorted\u001b[39;49m(\u001b[39mself\u001b[39;49m\u001b[39m.\u001b[39;49mpopulation, key\u001b[39m=\u001b[39;49m\u001b[39mlambda\u001b[39;49;00m x, y: fitness(\n\u001b[1;32m     13\u001b[0m         x, \u001b[39mself\u001b[39;49m\u001b[39m.\u001b[39;49madj, \u001b[39mself\u001b[39;49m\u001b[39m.\u001b[39;49mfit_type) \u001b[39m>\u001b[39;49m fitness(y, \u001b[39mself\u001b[39;49m\u001b[39m.\u001b[39;49madj, \u001b[39mself\u001b[39;49m\u001b[39m.\u001b[39;49mfit_type))\n\u001b[1;32m     14\u001b[0m     l \u001b[39m=\u001b[39m \u001b[39mlen\u001b[39m(\u001b[39mself\u001b[39m\u001b[39m.\u001b[39mpopulation)\n\u001b[1;32m     15\u001b[0m     l_4 \u001b[39m=\u001b[39m \u001b[39mint\u001b[39m(l\u001b[39m/\u001b[39m\u001b[39m4\u001b[39m)\n",
      "\u001b[0;31mTypeError\u001b[0m: EvolutionTSP.__call__.<locals>.<lambda>() missing 1 required positional argument: 'y'"
     ]
    }
   ],
   "source": [
    "tsp()"
   ]
  },
  {
   "cell_type": "code",
   "execution_count": null,
   "metadata": {},
   "outputs": [],
   "source": []
  }
 ],
 "metadata": {
  "kernelspec": {
   "display_name": ".venv",
   "language": "python",
   "name": "python3"
  },
  "language_info": {
   "codemirror_mode": {
    "name": "ipython",
    "version": 3
   },
   "file_extension": ".py",
   "mimetype": "text/x-python",
   "name": "python",
   "nbconvert_exporter": "python",
   "pygments_lexer": "ipython3",
   "version": "3.10.6"
  },
  "orig_nbformat": 4
 },
 "nbformat": 4,
 "nbformat_minor": 2
}
