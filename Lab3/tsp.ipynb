{
 "cells": [
  {
   "cell_type": "code",
   "execution_count": 221,
   "metadata": {},
   "outputs": [],
   "source": [
    "import numpy as np\n",
    "import itertools as it"
   ]
  },
  {
   "cell_type": "code",
   "execution_count": 2,
   "metadata": {},
   "outputs": [],
   "source": [
    "def adj_d(a, b, adj): return adj[a, b]\n",
    "\n",
    "\n",
    "def euc_2d(a, b): return np.linalg.norm(x=a-b, ord=2)\n",
    "\n",
    "\n",
    "def att(a, b):\n",
    "    d = euc_2d(a, b)\n",
    "    d_ = float(int(d))\n",
    "\n",
    "    if d_ < d:\n",
    "        return d_ + 1.\n",
    "    else:\n",
    "        return d_"
   ]
  },
  {
   "cell_type": "code",
   "execution_count": 213,
   "metadata": {},
   "outputs": [],
   "source": [
    "def make_genes(idxs, n):\n",
    "    def make_gene(): return np.random.permutation(idxs)\n",
    "    return [make_gene() for i in range(0, n)]\n",
    "\n",
    "\n",
    "def ord_crossover(a, b, window=5, verbose=False):\n",
    "\n",
    "    p1 = np.random.randint(0, len(a))\n",
    "\n",
    "    p2 = (p1 + window) % len(a)\n",
    "\n",
    "    l = len(a)\n",
    "\n",
    "    if p2 < p1:\n",
    "        p1, p2 = p2, p1\n",
    "\n",
    "    o1 = a[p1:p2]\n",
    "    o2 = b[p1:p2]\n",
    "\n",
    "    if verbose:\n",
    "        print(o1, o2)\n",
    "\n",
    "    a = [e for e in a[p2:]+a[:p2] if e not in o2]\n",
    "    b = [e for e in b[p2:]+b[:p2] if e not in o1]\n",
    "\n",
    "    if verbose:\n",
    "        print(b[l-p2:]+[\"o1\"]+b[:l-p2], a[l-p2:]+[\"o2\"]+a[:l-p2])\n",
    "\n",
    "    o1 = b[l-p2:]+o1+b[:l-p2]\n",
    "    o2 = a[l-p2:]+o2+a[:l-p2]\n",
    "\n",
    "    return o1, o2\n",
    "\n",
    "\n",
    "def disp_mutation(a, window=5, p=0.01, verbose=False):\n",
    "    bit_mask = np.random.choice(a=[True, False], size=len(a), p=[p, 1-p])\n",
    "\n",
    "    for i, mut in enumerate(bit_mask):\n",
    "        if mut:\n",
    "            p1 = i\n",
    "            p2 = (p1 + window) % len(a)\n",
    "\n",
    "            if p2 < p1:\n",
    "                p1, p2 = p2, p1\n",
    "\n",
    "            if verbose:\n",
    "                print(a[p1: p2])\n",
    "\n",
    "            a__ = [e for e in a if e not in a[p1: p2]]\n",
    "            p3 = np.random.randint(0, len(a__))\n",
    "\n",
    "            a = a__[:p3]+a[p1: p2]+a__[p3:]\n",
    "\n",
    "    return a\n",
    "\n",
    "\n",
    "def fitness(gene, adj, func):\n",
    "    if func == adj_d:\n",
    "        return sum([func(gene[i], gene[i+1], adj) for i in range(0, len(gene)-1)])\n",
    "    else:\n",
    "        return sum([func(adj[gene[i]], adj[gene[i+1]]) for i in range(0, len(gene)-1)])"
   ]
  },
  {
   "cell_type": "code",
   "execution_count": null,
   "metadata": {},
   "outputs": [],
   "source": [
    "class EvolutionTSP():\n",
    "    def __init__(self, path, population_n, cross=ord_crossover, mutation=disp_mutation):\n",
    "        self.cross = cross\n",
    "        self.mutation = mutation\n",
    "        self.adj = None\n",
    "        self.fitness = None\n",
    "\n",
    "        self.population=make_genes(len(self.adj), population_n)\n",
    "        pass\n",
    "    def __call__(self):\n",
    "        self.population = sorted(self.population)\n",
    "        \n",
    "        self.population = map(self.muatation, next_generation[:0]+next_generation[:1])\n"
   ]
  }
 ],
 "metadata": {
  "kernelspec": {
   "display_name": ".venv",
   "language": "python",
   "name": "python3"
  },
  "language_info": {
   "codemirror_mode": {
    "name": "ipython",
    "version": 3
   },
   "file_extension": ".py",
   "mimetype": "text/x-python",
   "name": "python",
   "nbconvert_exporter": "python",
   "pygments_lexer": "ipython3",
   "version": "3.10.6"
  },
  "orig_nbformat": 4
 },
 "nbformat": 4,
 "nbformat_minor": 2
}
